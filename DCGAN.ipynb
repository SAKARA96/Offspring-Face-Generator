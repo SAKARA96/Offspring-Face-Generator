{
 "cells": [
  {
   "cell_type": "code",
   "execution_count": 6,
   "metadata": {},
   "outputs": [
    {
     "name": "stdout",
     "output_type": "stream",
     "text": [
      "True\n",
      "3.7.5\n"
     ]
    }
   ],
   "source": [
    "from platform import python_version\n",
    "import tensorflow as tf\n",
    "\n",
    "print(tf.test.is_gpu_available())\n",
    "print(python_version())"
   ]
  },
  {
   "cell_type": "code",
   "execution_count": 7,
   "metadata": {},
   "outputs": [],
   "source": [
    "import os\n",
    "import numpy as np\n",
    "from os import listdir\n",
    "from PIL import Image\n",
    "import time\n",
    "import tensorflow as tf\n",
    "from tensorflow.keras import layers,models,optimizers\n",
    "from keras import backend as K\n",
    "import matplotlib.pyplot as plt"
   ]
  },
  {
   "cell_type": "code",
   "execution_count": 8,
   "metadata": {},
   "outputs": [],
   "source": [
    "path=\"datasets/ofg_family/\"\n",
    "randomiser = np.random.RandomState(123)"
   ]
  },
  {
   "cell_type": "code",
   "execution_count": 9,
   "metadata": {},
   "outputs": [],
   "source": [
    "def generate_image(family_dir):\n",
    "    dic={}\n",
    "    sub=[a for a in listdir(path+\"/\"+family_dir)]\n",
    "    \n",
    "    for ele in sub:\n",
    "        mypath = path+\"/\"+family_dir+\"/\"+ele+\"/\"\n",
    "        onlyfiles = [mypath+f for f in listdir(mypath)]\n",
    "        \n",
    "        addr = randomiser.choice(onlyfiles)\n",
    "        original_img = np.array(Image.open(addr).resize((64,64),Image.ANTIALIAS))\n",
    "        if ele[0].lower()=='f':\n",
    "            dic['father'] = original_img\n",
    "        elif ele[0].lower()=='m':\n",
    "            dic['mother'] = original_img\n",
    "        elif ele.lower()=='child_male':\n",
    "            dic['child'] = original_img    \n",
    "            dic['gender']=np.zeros((original_img.shape))\n",
    "        elif ele.lower()=='child_female':\n",
    "            dic['child'] = original_img    \n",
    "            dic['gender'] = np.ones((original_img.shape))\n",
    "    return [dic['father'],dic['mother'],dic['gender'],dic['child']]\n",
    "\n",
    "def generate_batch(families_batch):\n",
    "    np_images=[]\n",
    "    \n",
    "    for family in families_batch:\n",
    "        res = generate_image(family)\n",
    "        if( res != None):\n",
    "            np_images.append(res)\n",
    "    \n",
    "    return np_images"
   ]
  },
  {
   "cell_type": "code",
   "execution_count": 10,
   "metadata": {},
   "outputs": [],
   "source": [
    "for r, d, f in os.walk(path):\n",
    "        all_families=d\n",
    "        break\n",
    "\n",
    "randomiser.shuffle(all_families)\n",
    "\n",
    "train_families = all_families[:-500]\n",
    "test_families = all_families[-500:]"
   ]
  },
  {
   "cell_type": "code",
   "execution_count": 11,
   "metadata": {},
   "outputs": [],
   "source": [
    "OUTPUT_CHANNELS = 3"
   ]
  },
  {
   "cell_type": "code",
   "execution_count": 89,
   "metadata": {},
   "outputs": [],
   "source": [
    "mean = 0.\n",
    "std_dev = 0.02\n",
    "lr = 0.0001\n",
    "b1 = 0.9\n",
    "b2 = 0.99\n",
    "sd_random_normal_init = 0.02\n",
    "\n",
    "EPOCHS = 10\n",
    "batch = 250"
   ]
  },
  {
   "cell_type": "code",
   "execution_count": 90,
   "metadata": {},
   "outputs": [],
   "source": [
    "def gen_downsample_parent(filters, size, apply_batchnorm=True, apply_dropout=False):\n",
    "    initializer = tf.random_normal_initializer(mean, std_dev) \n",
    "  \n",
    "\n",
    "    result = tf.keras.Sequential()\n",
    "    result.add(\n",
    "      tf.keras.layers.Conv2D(filters, size, strides=2, padding='same',\n",
    "                             kernel_initializer=initializer,\n",
    "                             use_bias=False))\n",
    "\n",
    "    if apply_batchnorm:\n",
    "        result.add(tf.keras.layers.BatchNormalization())\n",
    "        \n",
    "    result.add(tf.keras.layers.ELU())\n",
    "        \n",
    "    if apply_dropout:\n",
    "        result.add(tf.keras.layers.Dropout(rate = 0.5))\n",
    "\n",
    "    return result"
   ]
  },
  {
   "cell_type": "raw",
   "metadata": {},
   "source": [
    "def gen_downsample_noise(filters, size, apply_batchnorm=True):\n",
    "    initializer = tf.random_normal_initializer(mean, std_dev) \n",
    "  \n",
    "\n",
    "    result = tf.keras.Sequential()\n",
    "    result.add(\n",
    "      tf.keras.layers.Conv2DTranspose(filters, size, strides=2, padding='same',\n",
    "                             kernel_initializer=initializer,\n",
    "                             use_bias=False))\n",
    "\n",
    "    if apply_batchnorm:\n",
    "        result.add(tf.keras.layers.BatchNormalization())\n",
    "        \n",
    "    result.add(tf.keras.layers.ELU())\n",
    "\n",
    "    return result"
   ]
  },
  {
   "cell_type": "code",
   "execution_count": 91,
   "metadata": {},
   "outputs": [],
   "source": [
    "def gen_upsample(filters, size,apply_batchnorm = False):\n",
    "    initializer = tf.random_normal_initializer(mean, std_dev)\n",
    "\n",
    "    result = tf.keras.Sequential()\n",
    "    result.add(\n",
    "    tf.keras.layers.Conv2DTranspose(filters, size, strides=2,\n",
    "                                    padding='same',\n",
    "                                    kernel_initializer=initializer,\n",
    "                                   use_bias=False))\n",
    "    if apply_batchnorm:\n",
    "        result.add(tf.keras.layers.BatchNormalization())\n",
    "        result.add(tf.keras.layers.ELU())\n",
    "\n",
    "    return result"
   ]
  },
  {
   "cell_type": "code",
   "execution_count": 92,
   "metadata": {},
   "outputs": [],
   "source": [
    "def EncoderNN():\n",
    "    down_stack_parent = [\n",
    "    gen_downsample_parent(32,4,apply_batchnorm=True, apply_dropout=False),\n",
    "    gen_downsample_parent(64,4,apply_batchnorm=True, apply_dropout=False)\n",
    "    ]\n",
    "    \n",
    "#     down_stack_noise =[\n",
    "# #   z = 4x4x64\n",
    "#     gen_downsample_noise(64,4,apply_batchnorm=True), #8x8x64\n",
    "#     gen_downsample_noise(32,4,apply_batchnorm=True) #16x16x32      \n",
    "#     ]\n",
    "    \n",
    "    final_conv =[\n",
    "        gen_upsample(32,4 ,apply_batchnorm = True)\n",
    "    ]\n",
    "    \n",
    "    initializer = tf.random_normal_initializer(mean, sd_random_normal_init)\n",
    "    last = tf.keras.layers.Conv2DTranspose(OUTPUT_CHANNELS, 4,\n",
    "                                         strides=2,\n",
    "                                         padding='same',\n",
    "                                         kernel_initializer=initializer,\n",
    "                                         activation='tanh')\n",
    "\n",
    "    concat = tf.keras.layers.Concatenate()\n",
    "\n",
    "    father = tf.keras.layers.Input(shape=(64,64,3))\n",
    "    mother = tf.keras.layers.Input(shape=(64,64,3))\n",
    "\n",
    "    \n",
    "    \n",
    "    x1 = father\n",
    "    for down in down_stack_parent:\n",
    "        x1 = down(x1)\n",
    "    \n",
    "#     print(x1.shape)\n",
    "    \n",
    "    x2 = mother\n",
    "    for down in down_stack_parent:\n",
    "        x2 = down(x2) \n",
    "    \n",
    "#     print(x2.shape)\n",
    "    \n",
    "#     n = noise\n",
    "#     for down in down_stack_noise:\n",
    "#         print(n.shape)\n",
    "#         n = down(n)\n",
    "#     print(n.shape)\n",
    "#     print(\"NOISE STACK DONE\")\n",
    "    \n",
    "    final = concat([x1,x2])\n",
    "#     print(final.shape)\n",
    "    final = final_conv[0](final)\n",
    "    \n",
    "    final = last(final)\n",
    "#     print(final.shape)\n",
    "    return tf.keras.Model(inputs=[father, mother], outputs=final)"
   ]
  },
  {
   "cell_type": "code",
   "execution_count": 93,
   "metadata": {},
   "outputs": [],
   "source": [
    "encoder = EncoderNN()"
   ]
  },
  {
   "cell_type": "raw",
   "metadata": {},
   "source": [
    "family_data = generate_image(all_families[700])\n",
    "noise = tf.random.normal((4,4,64),mean=0.0,stddev=1.0,dtype=tf.dtypes.float32)\n",
    "inp = np.array([family_data[0],family_data[1]])\n",
    "inp.shape"
   ]
  },
  {
   "cell_type": "code",
   "execution_count": 94,
   "metadata": {},
   "outputs": [],
   "source": [
    "encoder_optimizer = tf.keras.optimizers.Adam(learning_rate = lr, beta_1=b1)"
   ]
  },
  {
   "cell_type": "code",
   "execution_count": 95,
   "metadata": {},
   "outputs": [],
   "source": [
    "def tensor_to_array(tensor1):\n",
    "    return tensor1.numpy()"
   ]
  },
  {
   "cell_type": "code",
   "execution_count": 96,
   "metadata": {},
   "outputs": [],
   "source": [
    "def train_encoder(father_batch, mother_batch, target_batch, b_size):\n",
    "    with tf.GradientTape() as enc_tape:\n",
    "        gen_outputs = encoder([father_batch, mother_batch], training=True)\n",
    "        \n",
    "        diff = tf.abs(target_batch - gen_outputs)\n",
    "        flatten_diff = tf.reshape(diff, (b_size, 64*64*3))\n",
    "        \n",
    "        encoder_loss_batch = tf.reduce_mean(flatten_diff, axis=1)\n",
    "        encoder_loss = tf.reduce_mean(encoder_loss_batch)\n",
    "    \n",
    "    print(\"ENCODER_LOSS: \",tensor_to_array(encoder_loss))\n",
    "    #calculate gradients\n",
    "    encoder_gradients = enc_tape.gradient(encoder_loss,encoder.trainable_variables)\n",
    "\n",
    "    #apply gradients on optimizer\n",
    "    encoder_optimizer.apply_gradients(zip(encoder_gradients,encoder.trainable_variables))\n",
    "    \n"
   ]
  },
  {
   "cell_type": "code",
   "execution_count": 97,
   "metadata": {},
   "outputs": [],
   "source": [
    "def fit_encoder(train_ds, epochs, test_ds, batch):\n",
    "    losses=np.array([])\n",
    "    for epoch in range(epochs):\n",
    "        print(\"______________________________EPOCH %d_______________________________\"%(epoch+1))\n",
    "        start = time.time()\n",
    "        for i in range(len(train_ds)//batch):\n",
    "            batch_data = np.asarray(generate_batch(train_ds[i*batch:(i+1)*batch]))\n",
    "            batch_data = batch_data / 255 * 2 -1\n",
    "            \n",
    "            \n",
    "            print(\"Generated batch\", batch_data.shape)\n",
    "\n",
    "            X_Father_train = tf.convert_to_tensor(batch_data[:,0],dtype =tf.float32)\n",
    "            X_Mother_train = tf.convert_to_tensor(batch_data[:,1],dtype =tf.float32)\n",
    "            Y_train = tf.convert_to_tensor(batch_data[:,3],dtype =tf.float32)\n",
    "            \n",
    "            train_encoder(X_Father_train, X_Mother_train, Y_train,batch)\n",
    "            \n",
    "            print(\"Trained for batch %d/%d\"%(i+1,(len(train_ds)//batch)))\n",
    "    print(\"______________________________TRAINING COMPLETED_______________________________\")"
   ]
  },
  {
   "cell_type": "raw",
   "metadata": {},
   "source": [
    "train_dataset = all_families[:-500]\n",
    "test_dataset = all_families[-500:]\n",
    "encoder = EncoderNN()\n",
    "\n",
    "with tf.device('/gpu:0'):\n",
    "    fit_encoder(train_dataset, EPOCHS, test_dataset,batch)"
   ]
  },
  {
   "cell_type": "raw",
   "metadata": {
    "scrolled": true
   },
   "source": [
    "# epochs = 1\n",
    "batch = 500\n",
    "\n",
    "for epoch in range(epochs):\n",
    "    # print(\"Epoch \", epoch , \" .....\")\n",
    "    for i in range(len(train_families)//batch):\n",
    "        batch_data = np.asarray(generate_batch(train_families[i*batch:(i+1)*batch]))\n",
    "        batch_data = batch_data / 255 * 2 -1\n",
    "        # print(\"Generated batch\", batch_data.shape)\n",
    "        \n",
    "        X_train = tf.convert_to_tensor(concat([batch_data[:,0],batch_data[:,1]]),dtype =tf.float32)\n",
    "        # print(\"Batch converted to tensor\")\n",
    "        \n",
    "        Y_train = batch_data[:,3]\n",
    "        history = encoder.fit(X_train, Y_train, batch_size=batch)\n",
    "print(\"Training DONE!\")"
   ]
  },
  {
   "cell_type": "code",
   "execution_count": 98,
   "metadata": {},
   "outputs": [
    {
     "name": "stderr",
     "output_type": "stream",
     "text": [
      "Clipping input data to the valid range for imshow with RGB data ([0..1] for floats or [0..255] for integers).\n"
     ]
    },
    {
     "name": "stdout",
     "output_type": "stream",
     "text": [
      "-0.67210114\n",
      "0.70680594\n"
     ]
    },
    {
     "data": {
      "image/png": "[encoded data removed]",
      "text/plain": [
       "<Figure size 432x288 with 1 Axes>"
      ]
     },
     "metadata": {
      "needs_background": "light"
     },
     "output_type": "display_data"
    }
   ],
   "source": [
    "inp = [family_data[0],family_data[1]]\n",
    "inp = tf.cast(inp, tf.float32)\n",
    "father_inp = inp[0][tf.newaxis,...]\n",
    "mother_inp = inp[1][tf.newaxis,...]\n",
    "with tf.device('/gpu:0'):\n",
    "    gen_output = encoder([father_inp, mother_inp], training=True)\n",
    "\n",
    "temp = gen_output.numpy()\n",
    "temp = np.squeeze(temp)\n",
    "plt.imshow(temp)\n",
    "\n",
    "print(np.amin(temp))\n",
    "print(np.amax(temp))\n",
    "# print(encoder.trainable_weights[0][0][0][0])\n",
    "# plt.imshow((gen_output[0]+1)/2)"
   ]
  },
  {
   "cell_type": "code",
   "execution_count": 99,
   "metadata": {},
   "outputs": [],
   "source": [
    "def disc_downsample_parent_target(filters, size, apply_batchnorm=True):\n",
    "    initializer = tf.random_normal_initializer(mean, std_dev) \n",
    "  \n",
    "\n",
    "    result = tf.keras.Sequential()\n",
    "    result.add(\n",
    "      tf.keras.layers.Conv2D(filters, size, strides=2, padding='same',\n",
    "                             kernel_initializer=initializer,\n",
    "                             use_bias=False))\n",
    "\n",
    "    if apply_batchnorm:\n",
    "        result.add(tf.keras.layers.BatchNormalization())\n",
    "        \n",
    "    result.add(tf.keras.layers.LeakyReLU(alpha = 0.2))\n",
    "\n",
    "    return result"
   ]
  },
  {
   "cell_type": "code",
   "execution_count": 100,
   "metadata": {},
   "outputs": [],
   "source": [
    "def disc_loss(filters, size,apply_batchnorm = False):\n",
    "    initializer = tf.random_normal_initializer(mean, std_dev)\n",
    "\n",
    "    result = tf.keras.Sequential()\n",
    "    result.add(\n",
    "    tf.keras.layers.Conv2D(filters, size, strides=2,\n",
    "                                    padding='same',\n",
    "                                    kernel_initializer=initializer,\n",
    "                                   use_bias=False))\n",
    "    if apply_batchnorm:\n",
    "        result.add(tf.keras.layers.BatchNormalization())\n",
    "        \n",
    "    result.add(tf.keras.layers.LeakyReLU(alpha = 0.2))\n",
    "    \n",
    "    return result"
   ]
  },
  {
   "cell_type": "code",
   "execution_count": 101,
   "metadata": {},
   "outputs": [],
   "source": [
    "def Discriminator():\n",
    "\n",
    "    father = tf.keras.layers.Input(shape=(64,64,3))\n",
    "    mother = tf.keras.layers.Input(shape=(64,64,3))\n",
    "    target = tf.keras.layers.Input(shape=(64,64,3))\n",
    "    \n",
    "    down_stack_parent_target = [\n",
    "    disc_downsample_parent_target(32,4,apply_batchnorm=False), #32x32x32\n",
    "    disc_downsample_parent_target(64,4,apply_batchnorm=True)   #16x16x64\n",
    "    ]\n",
    "    \n",
    "    down_stack_combined =[\n",
    "    disc_loss(192,4,apply_batchnorm=True),\n",
    "    disc_loss(256,4,apply_batchnorm=False)\n",
    "    ]\n",
    "    \n",
    "    initializer = tf.random_normal_initializer(mean, sd_random_normal_init)\n",
    "    last = tf.keras.layers.Conv2D(1, 4, strides=1,padding='same',\n",
    "                                  kernel_initializer=initializer) # linear layer\n",
    "    \n",
    "    \n",
    "    concat = tf.keras.layers.Concatenate()\n",
    "    x1 = father\n",
    "    for down in down_stack_parent_target:\n",
    "        x1 = down(x1)\n",
    "    \n",
    "    x2 = mother\n",
    "    for down in down_stack_parent_target:\n",
    "        x2 = down(x2)\n",
    "        \n",
    "    x3 = target\n",
    "    for down in down_stack_parent_target:\n",
    "        x3 = down(x3)\n",
    "    \n",
    "    combined = concat([x1,x2,x3])\n",
    "    # combined is Batchx16x16x192\n",
    "    \n",
    "    x4 = combined\n",
    "    for down in down_stack_combined:\n",
    "        x4 = down(x4)\n",
    "#     print(x4.shape)\n",
    "    \n",
    "    output = last(x4) #4X4 \n",
    "#     print(output.shape)\n",
    "\n",
    "    return tf.keras.Model(inputs=[father,mother,target], outputs=output)"
   ]
  },
  {
   "cell_type": "code",
   "execution_count": 102,
   "metadata": {},
   "outputs": [],
   "source": [
    "discriminator = Discriminator()"
   ]
  },
  {
   "cell_type": "code",
   "execution_count": 103,
   "metadata": {},
   "outputs": [],
   "source": [
    "# family_data = generate_image(all_families[126])\n",
    "# p1 = tf.cast(family_data[0], tf.float32)\n",
    "# p2 = tf.cast(family_data[1], tf.float32)\n",
    "# c = tf.cast(family_data[2], tf.float32)\n",
    "\n",
    "# discriminator = Discriminator()\n",
    "# with tf.device('/cpu:0'):\n",
    "#     disc_out = discriminator(inputs = [p1,p2,c], training=True)"
   ]
  },
  {
   "cell_type": "code",
   "execution_count": 104,
   "metadata": {},
   "outputs": [],
   "source": [
    "LAMBDA = 100"
   ]
  },
  {
   "cell_type": "code",
   "execution_count": 105,
   "metadata": {},
   "outputs": [],
   "source": [
    "def tensor_to_array(tensor1):\n",
    "    return tensor1.numpy()"
   ]
  },
  {
   "cell_type": "code",
   "execution_count": 115,
   "metadata": {},
   "outputs": [],
   "source": [
    "def discriminator_loss(disc_real_output, disc_generated_output,b_size):\n",
    "    # real_loss = loss_object(tf.ones_like(disc_real_output,dtype=tf.float32), disc_real_output) #L1 loss\n",
    "    real_loss_diff = tf.abs(tf.ones_like(disc_real_output) - disc_real_output)\n",
    "    real_flatten_diff = tf.reshape(real_loss_diff, (b_size, 4*4*1))\n",
    "    real_loss_batch = tf.reduce_mean(real_flatten_diff, axis=1)\n",
    "    real_loss = tf.reduce_mean(real_loss_batch)\n",
    "    \n",
    "    gen_loss_diff = tf.abs(tf.zeros_like(disc_generated_output) - disc_generated_output)\n",
    "    gen_flatten_diff = tf.reshape(gen_loss_diff, (b_size, 4*4*1))\n",
    "    gen_loss_batch = tf.reduce_mean(gen_flatten_diff, axis=1)\n",
    "    gen_loss = tf.reduce_mean(gen_loss_batch)\n",
    "    \n",
    "    \n",
    "    \n",
    "#     generated_loss = tf.reduce_mean(tf.abs(tf.zeros_like(disc_generated_output) - disc_generated_output))\n",
    "    # generated_loss = loss_object(tf.zeros_like(disc_generated_output,dtype=tf.float32), disc_generated_output) \n",
    "    total_disc_loss = real_loss + gen_loss\n",
    "    print(\"D real loss: {}, D fake loss: {}\".format(real_loss, gen_loss))\n",
    "    return total_disc_loss"
   ]
  },
  {
   "cell_type": "code",
   "execution_count": 116,
   "metadata": {},
   "outputs": [],
   "source": [
    "def generator_loss(disc_generated_output, gen_output, target,b_size):\n",
    "    gen_loss_diff = tf.abs(tf.ones_like(disc_generated_output) - disc_generated_output)\n",
    "    gen_flatten_diff = tf.reshape(gen_loss_diff, (b_size, 4*4*1))\n",
    "    gen_loss_batch = tf.reduce_mean(gen_flatten_diff, axis=1)\n",
    "    gen_loss = tf.reduce_mean(gen_loss_batch)\n",
    "    \n",
    "    l1_loss_diff = tf.abs(target - gen_output)\n",
    "    l1_flatten_diff = tf.reshape(l1_loss_diff, (b_size, 64*64*3))\n",
    "    l1_loss_batch = tf.reduce_mean(l1_flatten_diff, axis=1)\n",
    "    l1_loss = tf.reduce_mean(l1_loss_batch)\n",
    " \n",
    "    total_gen_loss = l1_loss + LAMBDA * gen_loss  \n",
    "    print(\"Reconstruction loss: {}, GAN loss: {}\".format(l1_loss, gen_loss))\n",
    "    return total_gen_loss"
   ]
  },
  {
   "cell_type": "code",
   "execution_count": 117,
   "metadata": {},
   "outputs": [],
   "source": [
    "generator_optimizer = tf.keras.optimizers.Adam(lr, beta_1=b1 ,beta_2 = b2)\n",
    "discriminator_optimizer = tf.keras.optimizers.Adam(lr, beta_1=b1, beta_2 = b2)"
   ]
  },
  {
   "cell_type": "code",
   "execution_count": 118,
   "metadata": {},
   "outputs": [],
   "source": [
    "def train_step(father_batch, mother_batch, target_batch,b_size):\n",
    "    with tf.GradientTape() as gen_tape, tf.GradientTape() as disc_tape:\n",
    "        \n",
    "        gen_outputs = encoder([father_batch, mother_batch], training=True)\n",
    "        print(\"Generated outputs\",gen_outputs.shape)\n",
    "        \n",
    "        disc_real_output = discriminator([father_batch, mother_batch, target_batch], training=True)\n",
    "        print(\"disc_real_output \", disc_real_output.shape)\n",
    "        \n",
    "        disc_generated_output = discriminator([father_batch, mother_batch, gen_outputs], training=True)\n",
    "        print(\"disc_generated_output \", disc_generated_output.shape)\n",
    "        \n",
    "        gen_loss = generator_loss(disc_generated_output, gen_outputs, target_batch,b_size)\n",
    "        disc_loss = discriminator_loss(disc_real_output, disc_generated_output,b_size)\n",
    "    \n",
    "        \n",
    "    print(\"GEN_LOSS\",tensor_to_array(gen_loss))\n",
    "    print(\"DISC_LOSS\",tensor_to_array(disc_loss))\n",
    "\n",
    "    generator_gradients = gen_tape.gradient(gen_loss,encoder.trainable_variables)\n",
    "    discriminator_gradients = disc_tape.gradient(disc_loss,discriminator.trainable_variables)\n",
    "\n",
    "    generator_optimizer.apply_gradients(zip(generator_gradients,encoder.trainable_variables))\n",
    "    discriminator_optimizer.apply_gradients(zip(discriminator_gradients,discriminator.trainable_variables))"
   ]
  },
  {
   "cell_type": "code",
   "execution_count": 119,
   "metadata": {},
   "outputs": [],
   "source": [
    "def fit(train_ds, epochs, test_ds,batch):\n",
    "    for epoch in range(epochs):\n",
    "        print(\"______________________________EPOCH %d_______________________________\"%(epoch))\n",
    "        start = time.time()\n",
    "        for i in range(len(train_ds)//batch):\n",
    "            batch_data = np.asarray(generate_batch(train_ds[i*batch:(i+1)*batch]))\n",
    "\n",
    "            print(\"Generated batch\", batch_data.shape)\n",
    "\n",
    "            X_father_train = tf.convert_to_tensor(batch_data[:,0],dtype =tf.float32)\n",
    "            X_mother_train = tf.convert_to_tensor(batch_data[:,1],dtype =tf.float32)\n",
    "#             print(\"Xtrain\",X_train.shape)\n",
    "#             print(\"Batch converted to tensor\")\n",
    "\n",
    "            Y_train = tf.convert_to_tensor(batch_data[:,3],dtype =tf.float32)\n",
    "            train_step(X_father_train, X_mother_train, Y_train, batch)\n",
    "            print(\"Trained for batch %d/%d\"%(i+1,(len(train_ds)//batch)))\n",
    "            \n",
    "        family_data = generate_image(all_families[126])\n",
    "        inp = [family_data[0],family_data[1]]\n",
    "        inp = tf.cast(inp, tf.float32)\n",
    "        father_inp = inp[0][tf.newaxis,...]\n",
    "        mother_inp = inp[1][tf.newaxis,...]\n",
    "        gen_output = encoder([father_inp, mother_inp], training=True)\n",
    "        \n",
    "        print(tf.reduce_min(gen_output))\n",
    "        print(tf.reduce_max(gen_output))\n",
    "        plt.figure()\n",
    "        plt.imshow(gen_output[0,...])\n",
    "        plt.show()\n",
    "    print(\"______________________________TRAINING COMPLETED_______________________________\")\n",
    "    checkpoint.save(file_prefix = checkpoint_prefix)"
   ]
  },
  {
   "cell_type": "code",
   "execution_count": 120,
   "metadata": {},
   "outputs": [],
   "source": [
    "concat = tf.keras.layers.Concatenate()"
   ]
  },
  {
   "cell_type": "code",
   "execution_count": 121,
   "metadata": {},
   "outputs": [],
   "source": [
    "train_dataset = all_families[:-500]\n",
    "test_dataset = all_families[-500:]\n",
    "encoder = EncoderNN()\n",
    "discriminator = Discriminator()"
   ]
  },
  {
   "cell_type": "code",
   "execution_count": 122,
   "metadata": {},
   "outputs": [],
   "source": [
    "checkpoint_dir = './checkpoint'\n",
    "checkpoint_prefix = os.path.join(checkpoint_dir, \"ckpt\")\n",
    "checkpoint = tf.train.Checkpoint(generator_optimizer=generator_optimizer,\n",
    "                                 discriminator_optimizer=discriminator_optimizer,\n",
    "                                 generator=encoder,\n",
    "                                 discriminator=discriminator)"
   ]
  },
  {
   "cell_type": "code",
   "execution_count": null,
   "metadata": {
    "scrolled": false
   },
   "outputs": [
    {
     "name": "stdout",
     "output_type": "stream",
     "text": [
      "______________________________EPOCH 0_______________________________\n",
      "Generated batch (250, 4, 64, 64, 3)\n",
      "Generated outputs (250, 64, 64, 3)\n",
      "disc_real_output  (250, 4, 4, 1)\n",
      "disc_generated_output  (250, 4, 4, 1)\n",
      "Reconstruction loss: 128.31607055664062, GAN loss: 1.177240252494812\n",
      "D real loss: 1.201253890991211, D fake loss: 0.3406824469566345\n",
      "GEN_LOSS 246.0401\n",
      "DISC_LOSS 1.5419364\n",
      "Trained for batch 1/6\n",
      "Generated batch (250, 4, 64, 64, 3)\n",
      "Generated outputs (250, 64, 64, 3)\n",
      "disc_real_output  (250, 4, 4, 1)\n",
      "disc_generated_output  (250, 4, 4, 1)\n",
      "Reconstruction loss: 124.35713195800781, GAN loss: 0.5538030862808228\n",
      "D real loss: 0.5480087399482727, D fake loss: 0.5566259622573853\n",
      "GEN_LOSS 179.73744\n",
      "DISC_LOSS 1.1046348\n",
      "Trained for batch 2/6\n",
      "Generated batch (250, 4, 64, 64, 3)\n",
      "Generated outputs (250, 64, 64, 3)\n",
      "disc_real_output  (250, 4, 4, 1)\n",
      "disc_generated_output  (250, 4, 4, 1)\n",
      "Reconstruction loss: 124.46698760986328, GAN loss: 0.3875274360179901\n",
      "D real loss: 0.36949053406715393, D fake loss: 0.8541183471679688\n",
      "GEN_LOSS 163.21973\n",
      "DISC_LOSS 1.2236089\n",
      "Trained for batch 3/6\n",
      "Generated batch (250, 4, 64, 64, 3)\n",
      "Generated outputs (250, 64, 64, 3)\n",
      "disc_real_output  (250, 4, 4, 1)\n",
      "disc_generated_output  (250, 4, 4, 1)\n",
      "Reconstruction loss: 126.96226501464844, GAN loss: 0.3463146984577179\n",
      "D real loss: 0.3109120726585388, D fake loss: 0.8210701942443848\n",
      "GEN_LOSS 161.59373\n",
      "DISC_LOSS 1.1319823\n",
      "Trained for batch 4/6\n",
      "Generated batch (250, 4, 64, 64, 3)\n",
      "Generated outputs (250, 64, 64, 3)\n",
      "disc_real_output  (250, 4, 4, 1)\n",
      "disc_generated_output  (250, 4, 4, 1)\n",
      "Reconstruction loss: 128.50469970703125, GAN loss: 0.43650591373443604\n",
      "D real loss: 0.3160812258720398, D fake loss: 0.6124324202537537\n",
      "GEN_LOSS 172.15529\n",
      "DISC_LOSS 0.92851365\n",
      "Trained for batch 5/6\n",
      "Generated batch (250, 4, 64, 64, 3)\n",
      "Generated outputs (250, 64, 64, 3)\n",
      "disc_real_output  (250, 4, 4, 1)\n",
      "disc_generated_output  (250, 4, 4, 1)\n",
      "Reconstruction loss: 129.12734985351562, GAN loss: 0.6588078737258911\n",
      "D real loss: 0.43418818712234497, D fake loss: 0.4244379997253418\n",
      "GEN_LOSS 195.00815\n",
      "DISC_LOSS 0.8586262\n"
     ]
    },
    {
     "name": "stderr",
     "output_type": "stream",
     "text": [
      "Clipping input data to the valid range for imshow with RGB data ([0..1] for floats or [0..255] for integers).\n"
     ]
    },
    {
     "name": "stdout",
     "output_type": "stream",
     "text": [
      "Trained for batch 6/6\n",
      "tf.Tensor(-0.63486814, shape=(), dtype=float32)\n",
      "tf.Tensor(0.6541769, shape=(), dtype=float32)\n"
     ]
    },
    {
     "data": {
      "image/png": "[encoded data removed]",
      "text/plain": [
       "<Figure size 432x288 with 1 Axes>"
      ]
     },
     "metadata": {
      "needs_background": "light"
     },
     "output_type": "display_data"
    },
    {
     "name": "stdout",
     "output_type": "stream",
     "text": [
      "______________________________EPOCH 1_______________________________\n",
      "Generated batch (250, 4, 64, 64, 3)\n",
      "Generated outputs (250, 64, 64, 3)\n",
      "disc_real_output  (250, 4, 4, 1)\n",
      "disc_generated_output  (250, 4, 4, 1)\n",
      "Reconstruction loss: 128.55490112304688, GAN loss: 0.8373132944107056\n",
      "D real loss: 0.5141323804855347, D fake loss: 0.3430391252040863\n",
      "GEN_LOSS 212.28622\n",
      "DISC_LOSS 0.85717154\n",
      "Trained for batch 1/6\n",
      "Generated batch (250, 4, 64, 64, 3)\n",
      "Generated outputs (250, 64, 64, 3)\n",
      "disc_real_output  (250, 4, 4, 1)\n",
      "disc_generated_output  (250, 4, 4, 1)\n",
      "Reconstruction loss: 123.75494384765625, GAN loss: 0.9064200520515442\n",
      "D real loss: 0.5166274309158325, D fake loss: 0.3070701062679291\n",
      "GEN_LOSS 214.39694\n",
      "DISC_LOSS 0.82369757\n",
      "Trained for batch 2/6\n",
      "Generated batch (250, 4, 64, 64, 3)\n",
      "Generated outputs (250, 64, 64, 3)\n",
      "disc_real_output  (250, 4, 4, 1)\n",
      "disc_generated_output  (250, 4, 4, 1)\n",
      "Reconstruction loss: 124.06312561035156, GAN loss: 0.8814403414726257\n",
      "D real loss: 0.43993377685546875, D fake loss: 0.2833064794540405\n",
      "GEN_LOSS 212.20715\n",
      "DISC_LOSS 0.72324026\n",
      "Trained for batch 3/6\n",
      "Generated batch (250, 4, 64, 64, 3)\n",
      "Generated outputs (250, 64, 64, 3)\n",
      "disc_real_output  (250, 4, 4, 1)\n",
      "disc_generated_output  (250, 4, 4, 1)\n",
      "Reconstruction loss: 127.57234191894531, GAN loss: 0.7866615653038025\n",
      "D real loss: 0.3310326039791107, D fake loss: 0.2888890206813812\n",
      "GEN_LOSS 206.2385\n",
      "DISC_LOSS 0.6199216\n",
      "Trained for batch 4/6\n",
      "Generated batch (250, 4, 64, 64, 3)\n",
      "Generated outputs (250, 64, 64, 3)\n",
      "disc_real_output  (250, 4, 4, 1)\n",
      "disc_generated_output  (250, 4, 4, 1)\n",
      "Reconstruction loss: 127.41870880126953, GAN loss: 0.7147371768951416\n",
      "D real loss: 0.2841516137123108, D fake loss: 0.3303212523460388\n",
      "GEN_LOSS 198.89243\n",
      "DISC_LOSS 0.61447287\n",
      "Trained for batch 5/6\n",
      "Generated batch (250, 4, 64, 64, 3)\n",
      "Generated outputs (250, 64, 64, 3)\n",
      "disc_real_output  (250, 4, 4, 1)\n",
      "disc_generated_output  (250, 4, 4, 1)\n",
      "Reconstruction loss: 131.45822143554688, GAN loss: 0.7187845706939697\n",
      "D real loss: 0.2769956588745117, D fake loss: 0.32601749897003174\n",
      "GEN_LOSS 203.33667\n",
      "DISC_LOSS 0.60301316\n"
     ]
    },
    {
     "name": "stderr",
     "output_type": "stream",
     "text": [
      "Clipping input data to the valid range for imshow with RGB data ([0..1] for floats or [0..255] for integers).\n"
     ]
    },
    {
     "name": "stdout",
     "output_type": "stream",
     "text": [
      "Trained for batch 6/6\n",
      "tf.Tensor(-0.6575018, shape=(), dtype=float32)\n",
      "tf.Tensor(0.6488706, shape=(), dtype=float32)\n"
     ]
    },
    {
     "data": {
      "image/png": "[encoded data removed]",
      "text/plain": [
       "<Figure size 432x288 with 1 Axes>"
      ]
     },
     "metadata": {
      "needs_background": "light"
     },
     "output_type": "display_data"
    },
    {
     "name": "stdout",
     "output_type": "stream",
     "text": [
      "______________________________EPOCH 2_______________________________\n",
      "Generated batch (250, 4, 64, 64, 3)\n",
      "Generated outputs (250, 64, 64, 3)\n",
      "disc_real_output  (250, 4, 4, 1)\n",
      "disc_generated_output  (250, 4, 4, 1)\n",
      "Reconstruction loss: 126.34243774414062, GAN loss: 0.7812826037406921\n",
      "D real loss: 0.2727437913417816, D fake loss: 0.2777853012084961\n",
      "GEN_LOSS 204.4707\n",
      "DISC_LOSS 0.5505291\n",
      "Trained for batch 1/6\n",
      "Generated batch (250, 4, 64, 64, 3)\n",
      "Generated outputs (250, 64, 64, 3)\n",
      "disc_real_output  (250, 4, 4, 1)\n",
      "disc_generated_output  (250, 4, 4, 1)\n",
      "Reconstruction loss: 126.7296371459961, GAN loss: 0.9055788516998291\n",
      "D real loss: 0.27363109588623047, D fake loss: 0.2171110361814499\n",
      "GEN_LOSS 217.28752\n",
      "DISC_LOSS 0.49074215\n",
      "Trained for batch 2/6\n",
      "Generated batch (250, 4, 64, 64, 3)\n",
      "Generated outputs (250, 64, 64, 3)\n",
      "disc_real_output  (250, 4, 4, 1)\n",
      "disc_generated_output  (250, 4, 4, 1)\n",
      "Reconstruction loss: 125.53282928466797, GAN loss: 1.0124112367630005\n",
      "D real loss: 0.28076499700546265, D fake loss: 0.20596683025360107\n",
      "GEN_LOSS 226.77396\n",
      "DISC_LOSS 0.48673183\n",
      "Trained for batch 3/6\n",
      "Generated batch (250, 4, 64, 64, 3)\n",
      "Generated outputs (250, 64, 64, 3)\n",
      "disc_real_output  (250, 4, 4, 1)\n",
      "disc_generated_output  (250, 4, 4, 1)\n",
      "Reconstruction loss: 127.42430877685547, GAN loss: 1.0604099035263062\n",
      "D real loss: 0.2740861475467682, D fake loss: 0.21588343381881714\n",
      "GEN_LOSS 233.4653\n",
      "DISC_LOSS 0.48996958\n",
      "Trained for batch 4/6\n",
      "Generated batch (250, 4, 64, 64, 3)\n",
      "Generated outputs (250, 64, 64, 3)\n",
      "disc_real_output  (250, 4, 4, 1)\n",
      "disc_generated_output  (250, 4, 4, 1)\n",
      "Reconstruction loss: 129.2250518798828, GAN loss: 1.0277378559112549\n",
      "D real loss: 0.2517935335636139, D fake loss: 0.20529530942440033\n",
      "GEN_LOSS 231.99884\n",
      "DISC_LOSS 0.45708883\n",
      "Trained for batch 5/6\n",
      "Generated batch (250, 4, 64, 64, 3)\n",
      "Generated outputs (250, 64, 64, 3)\n",
      "disc_real_output  (250, 4, 4, 1)\n",
      "disc_generated_output  (250, 4, 4, 1)\n",
      "Reconstruction loss: 128.8585968017578, GAN loss: 0.9614037871360779\n",
      "D real loss: 0.22464494407176971, D fake loss: 0.19770482182502747\n",
      "GEN_LOSS 224.99898\n",
      "DISC_LOSS 0.42234975\n"
     ]
    }
   ],
   "source": [
    "with tf.device('/cpu:0'):\n",
    "    fit(train_dataset, EPOCHS, test_dataset,batch)"
   ]
  },
  {
   "cell_type": "code",
   "execution_count": 48,
   "metadata": {},
   "outputs": [
    {
     "ename": "AssertionError",
     "evalue": "Could not compute output Tensor(\"conv2d_transpose_7/Identity:0\", shape=(None, 64, 64, 3), dtype=float32)",
     "output_type": "error",
     "traceback": [
      "\u001b[0;31m---------------------------------------------------------------------------\u001b[0m",
      "\u001b[0;31mAssertionError\u001b[0m                            Traceback (most recent call last)",
      "\u001b[0;32m<ipython-input-48-6d3cdd30ffd6>\u001b[0m in \u001b[0;36m<module>\u001b[0;34m\u001b[0m\n\u001b[1;32m      3\u001b[0m \u001b[0minp\u001b[0m \u001b[0;34m=\u001b[0m \u001b[0mtf\u001b[0m\u001b[0;34m.\u001b[0m\u001b[0mcast\u001b[0m\u001b[0;34m(\u001b[0m\u001b[0minp\u001b[0m\u001b[0;34m,\u001b[0m \u001b[0mtf\u001b[0m\u001b[0;34m.\u001b[0m\u001b[0mfloat32\u001b[0m\u001b[0;34m)\u001b[0m\u001b[0;34m\u001b[0m\u001b[0;34m\u001b[0m\u001b[0m\n\u001b[1;32m      4\u001b[0m \u001b[0;32mwith\u001b[0m \u001b[0mtf\u001b[0m\u001b[0;34m.\u001b[0m\u001b[0mdevice\u001b[0m\u001b[0;34m(\u001b[0m\u001b[0;34m'/cpu:0'\u001b[0m\u001b[0;34m)\u001b[0m\u001b[0;34m:\u001b[0m\u001b[0;34m\u001b[0m\u001b[0;34m\u001b[0m\u001b[0m\n\u001b[0;32m----> 5\u001b[0;31m     \u001b[0mgen_output\u001b[0m \u001b[0;34m=\u001b[0m \u001b[0mencoder\u001b[0m\u001b[0;34m(\u001b[0m\u001b[0minp\u001b[0m\u001b[0;34m,\u001b[0m \u001b[0mtraining\u001b[0m\u001b[0;34m=\u001b[0m\u001b[0;32mTrue\u001b[0m\u001b[0;34m)\u001b[0m\u001b[0;34m\u001b[0m\u001b[0;34m\u001b[0m\u001b[0m\n\u001b[0m\u001b[1;32m      6\u001b[0m \u001b[0mprint\u001b[0m\u001b[0;34m(\u001b[0m\u001b[0mtf\u001b[0m\u001b[0;34m.\u001b[0m\u001b[0mreduce_min\u001b[0m\u001b[0;34m(\u001b[0m\u001b[0mgen_output\u001b[0m\u001b[0;34m)\u001b[0m\u001b[0;34m)\u001b[0m\u001b[0;34m\u001b[0m\u001b[0;34m\u001b[0m\u001b[0m\n\u001b[1;32m      7\u001b[0m \u001b[0mprint\u001b[0m\u001b[0;34m(\u001b[0m\u001b[0mtf\u001b[0m\u001b[0;34m.\u001b[0m\u001b[0mreduce_max\u001b[0m\u001b[0;34m(\u001b[0m\u001b[0mgen_output\u001b[0m\u001b[0;34m)\u001b[0m\u001b[0;34m)\u001b[0m\u001b[0;34m\u001b[0m\u001b[0;34m\u001b[0m\u001b[0m\n",
      "\u001b[0;32m/usr/local/lib/python3.7/site-packages/tensorflow_core/python/keras/engine/base_layer.py\u001b[0m in \u001b[0;36m__call__\u001b[0;34m(self, inputs, *args, **kwargs)\u001b[0m\n\u001b[1;32m    889\u001b[0m           with base_layer_utils.autocast_context_manager(\n\u001b[1;32m    890\u001b[0m               self._compute_dtype):\n\u001b[0;32m--> 891\u001b[0;31m             \u001b[0moutputs\u001b[0m \u001b[0;34m=\u001b[0m \u001b[0mself\u001b[0m\u001b[0;34m.\u001b[0m\u001b[0mcall\u001b[0m\u001b[0;34m(\u001b[0m\u001b[0mcast_inputs\u001b[0m\u001b[0;34m,\u001b[0m \u001b[0;34m*\u001b[0m\u001b[0margs\u001b[0m\u001b[0;34m,\u001b[0m \u001b[0;34m**\u001b[0m\u001b[0mkwargs\u001b[0m\u001b[0;34m)\u001b[0m\u001b[0;34m\u001b[0m\u001b[0;34m\u001b[0m\u001b[0m\n\u001b[0m\u001b[1;32m    892\u001b[0m           \u001b[0mself\u001b[0m\u001b[0;34m.\u001b[0m\u001b[0m_handle_activity_regularization\u001b[0m\u001b[0;34m(\u001b[0m\u001b[0minputs\u001b[0m\u001b[0;34m,\u001b[0m \u001b[0moutputs\u001b[0m\u001b[0;34m)\u001b[0m\u001b[0;34m\u001b[0m\u001b[0;34m\u001b[0m\u001b[0m\n\u001b[1;32m    893\u001b[0m           \u001b[0mself\u001b[0m\u001b[0;34m.\u001b[0m\u001b[0m_set_mask_metadata\u001b[0m\u001b[0;34m(\u001b[0m\u001b[0minputs\u001b[0m\u001b[0;34m,\u001b[0m \u001b[0moutputs\u001b[0m\u001b[0;34m,\u001b[0m \u001b[0minput_masks\u001b[0m\u001b[0;34m)\u001b[0m\u001b[0;34m\u001b[0m\u001b[0;34m\u001b[0m\u001b[0m\n",
      "\u001b[0;32m/usr/local/lib/python3.7/site-packages/tensorflow_core/python/keras/engine/network.py\u001b[0m in \u001b[0;36mcall\u001b[0;34m(self, inputs, training, mask)\u001b[0m\n\u001b[1;32m    706\u001b[0m     return self._run_internal_graph(\n\u001b[1;32m    707\u001b[0m         \u001b[0minputs\u001b[0m\u001b[0;34m,\u001b[0m \u001b[0mtraining\u001b[0m\u001b[0;34m=\u001b[0m\u001b[0mtraining\u001b[0m\u001b[0;34m,\u001b[0m \u001b[0mmask\u001b[0m\u001b[0;34m=\u001b[0m\u001b[0mmask\u001b[0m\u001b[0;34m,\u001b[0m\u001b[0;34m\u001b[0m\u001b[0;34m\u001b[0m\u001b[0m\n\u001b[0;32m--> 708\u001b[0;31m         convert_kwargs_to_constants=base_layer_utils.call_context().saving)\n\u001b[0m\u001b[1;32m    709\u001b[0m \u001b[0;34m\u001b[0m\u001b[0m\n\u001b[1;32m    710\u001b[0m   \u001b[0;32mdef\u001b[0m \u001b[0mcompute_output_shape\u001b[0m\u001b[0;34m(\u001b[0m\u001b[0mself\u001b[0m\u001b[0;34m,\u001b[0m \u001b[0minput_shape\u001b[0m\u001b[0;34m)\u001b[0m\u001b[0;34m:\u001b[0m\u001b[0;34m\u001b[0m\u001b[0;34m\u001b[0m\u001b[0m\n",
      "\u001b[0;32m/usr/local/lib/python3.7/site-packages/tensorflow_core/python/keras/engine/network.py\u001b[0m in \u001b[0;36m_run_internal_graph\u001b[0;34m(self, inputs, training, mask, convert_kwargs_to_constants)\u001b[0m\n\u001b[1;32m    868\u001b[0m     \u001b[0moutput_shapes\u001b[0m \u001b[0;34m=\u001b[0m \u001b[0;34m[\u001b[0m\u001b[0;34m]\u001b[0m\u001b[0;34m\u001b[0m\u001b[0;34m\u001b[0m\u001b[0m\n\u001b[1;32m    869\u001b[0m     \u001b[0;32mfor\u001b[0m \u001b[0mx\u001b[0m \u001b[0;32min\u001b[0m \u001b[0mself\u001b[0m\u001b[0;34m.\u001b[0m\u001b[0moutputs\u001b[0m\u001b[0;34m:\u001b[0m\u001b[0;34m\u001b[0m\u001b[0;34m\u001b[0m\u001b[0m\n\u001b[0;32m--> 870\u001b[0;31m       \u001b[0;32massert\u001b[0m \u001b[0mstr\u001b[0m\u001b[0;34m(\u001b[0m\u001b[0mid\u001b[0m\u001b[0;34m(\u001b[0m\u001b[0mx\u001b[0m\u001b[0;34m)\u001b[0m\u001b[0;34m)\u001b[0m \u001b[0;32min\u001b[0m \u001b[0mtensor_dict\u001b[0m\u001b[0;34m,\u001b[0m \u001b[0;34m'Could not compute output '\u001b[0m \u001b[0;34m+\u001b[0m \u001b[0mstr\u001b[0m\u001b[0;34m(\u001b[0m\u001b[0mx\u001b[0m\u001b[0;34m)\u001b[0m\u001b[0;34m\u001b[0m\u001b[0;34m\u001b[0m\u001b[0m\n\u001b[0m\u001b[1;32m    871\u001b[0m       \u001b[0mtensor\u001b[0m \u001b[0;34m=\u001b[0m \u001b[0mtensor_dict\u001b[0m\u001b[0;34m[\u001b[0m\u001b[0mstr\u001b[0m\u001b[0;34m(\u001b[0m\u001b[0mid\u001b[0m\u001b[0;34m(\u001b[0m\u001b[0mx\u001b[0m\u001b[0;34m)\u001b[0m\u001b[0;34m)\u001b[0m\u001b[0;34m]\u001b[0m\u001b[0;34m\u001b[0m\u001b[0;34m\u001b[0m\u001b[0m\n\u001b[1;32m    872\u001b[0m       \u001b[0moutput_shapes\u001b[0m\u001b[0;34m.\u001b[0m\u001b[0mappend\u001b[0m\u001b[0;34m(\u001b[0m\u001b[0mx\u001b[0m\u001b[0;34m.\u001b[0m\u001b[0mshape\u001b[0m\u001b[0;34m)\u001b[0m\u001b[0;34m\u001b[0m\u001b[0;34m\u001b[0m\u001b[0m\n",
      "\u001b[0;31mAssertionError\u001b[0m: Could not compute output Tensor(\"conv2d_transpose_7/Identity:0\", shape=(None, 64, 64, 3), dtype=float32)"
     ]
    }
   ],
   "source": [
    "family_data = generate_image(all_families[1])\n",
    "inp = [family_data[0],family_data[1]]\n",
    "inp = tf.cast(inp, tf.float32)\n",
    "with tf.device('/cpu:0'):\n",
    "    gen_output = encoder(inp, training=True)\n",
    "print(tf.reduce_min(gen_output))\n",
    "print(tf.reduce_max(gen_output))\n",
    "plt.imshow(gen_output[0,...])"
   ]
  }
 ],
 "metadata": {
  "kernelspec": {
   "display_name": "gpu-3.7",
   "language": "python",
   "name": "gpu-3.7"
  },
  "language_info": {
   "codemirror_mode": {
    "name": "ipython",
    "version": 3
   },
   "file_extension": ".py",
   "mimetype": "text/x-python",
   "name": "python",
   "nbconvert_exporter": "python",
   "pygments_lexer": "ipython3",
   "version": "3.7.5"
  }
 },
 "nbformat": 4,
 "nbformat_minor": 2
}
