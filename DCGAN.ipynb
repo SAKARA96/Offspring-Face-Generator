{
 "cells": [
  {
   "cell_type": "code",
   "execution_count": 19,
   "metadata": {},
   "outputs": [
    {
     "name": "stdout",
     "output_type": "stream",
     "text": [
      "True\n",
      "3.7.5\n"
     ]
    }
   ],
   "source": [
    "from platform import python_version\n",
    "import tensorflow as tf\n",
    "\n",
    "print(tf.test.is_gpu_available())\n",
    "print(python_version())"
   ]
  },
  {
   "cell_type": "code",
   "execution_count": 20,
   "metadata": {},
   "outputs": [],
   "source": [
    "import os\n",
    "import numpy as np\n",
    "from os import listdir\n",
    "from PIL import Image\n",
    "import time\n",
    "import tensorflow as tf\n",
    "from tensorflow.keras import layers,models,optimizers\n",
    "from keras import backend as K\n",
    "import matplotlib.pyplot as plt"
   ]
  },
  {
   "cell_type": "code",
   "execution_count": 21,
   "metadata": {},
   "outputs": [],
   "source": [
    "path=\"datasets/ofg_family/\"\n",
    "randomiser = np.random.RandomState(123)"
   ]
  },
  {
   "cell_type": "code",
   "execution_count": 22,
   "metadata": {},
   "outputs": [],
   "source": [
    "def generate_image(family_dir):\n",
    "    dic={}\n",
    "    sub=[a for a in listdir(path+\"/\"+family_dir)]\n",
    "    \n",
    "    for ele in sub:\n",
    "        mypath = path+\"/\"+family_dir+\"/\"+ele+\"/\"\n",
    "        onlyfiles = [mypath+f for f in listdir(mypath)]\n",
    "        \n",
    "        addr = randomiser.choice(onlyfiles)\n",
    "        original_img = np.array(Image.open(addr).resize((64,64),Image.ANTIALIAS))\n",
    "        if ele[0].lower()=='f':\n",
    "            dic['father'] = original_img\n",
    "        elif ele[0].lower()=='m':\n",
    "            dic['mother'] = original_img\n",
    "        elif ele.lower()=='child_male':\n",
    "            dic['child'] = original_img    \n",
    "            dic['gender']=np.zeros((original_img.shape))\n",
    "        elif ele.lower()=='child_female':\n",
    "            dic['child'] = original_img    \n",
    "            dic['gender'] = np.ones((original_img.shape))\n",
    "    return [dic['father'],dic['mother'],dic['gender'],dic['child']]\n",
    "\n",
    "def generate_batch(families_batch):\n",
    "    np_images=[]\n",
    "    \n",
    "    for family in families_batch:\n",
    "        res = generate_image(family)\n",
    "        if( res != None):\n",
    "            np_images.append(res)\n",
    "    \n",
    "    return np_images"
   ]
  },
  {
   "cell_type": "code",
   "execution_count": 23,
   "metadata": {},
   "outputs": [],
   "source": [
    "for r, d, f in os.walk(path):\n",
    "        all_families=d\n",
    "        break\n",
    "\n",
    "randomiser.shuffle(all_families)\n",
    "\n",
    "train_families = all_families[:-500]\n",
    "test_families = all_families[-500:]"
   ]
  },
  {
   "cell_type": "code",
   "execution_count": 24,
   "metadata": {},
   "outputs": [],
   "source": [
    "OUTPUT_CHANNELS = 3"
   ]
  },
  {
   "cell_type": "code",
   "execution_count": 98,
   "metadata": {},
   "outputs": [],
   "source": [
    "def gen_downsample_parent(filters, size, apply_batchnorm=True, apply_dropout=False):\n",
    "    initializer = tf.random_normal_initializer(0.04, 0.02) \n",
    "  \n",
    "\n",
    "    result = tf.keras.Sequential()\n",
    "    result.add(\n",
    "      tf.keras.layers.Conv2D(filters, size, strides=2, padding='same',\n",
    "                             kernel_initializer=initializer,\n",
    "                             use_bias=False))\n",
    "\n",
    "    if apply_batchnorm:\n",
    "        result.add(tf.keras.layers.BatchNormalization())\n",
    "        \n",
    "    result.add(tf.keras.layers.ELU())\n",
    "        \n",
    "    if apply_dropout:\n",
    "        result.add(tf.keras.layers.Dropout(rate = 0.5))\n",
    "\n",
    "    return result"
   ]
  },
  {
   "cell_type": "code",
   "execution_count": 99,
   "metadata": {},
   "outputs": [],
   "source": [
    "def gen_downsample_noise(filters, size, apply_batchnorm=True):\n",
    "    initializer = tf.random_normal_initializer(0.04, 0.02) \n",
    "  \n",
    "\n",
    "    result = tf.keras.Sequential()\n",
    "    result.add(\n",
    "      tf.keras.layers.Conv2DTranspose(filters, size, strides=2, padding='same',\n",
    "                             kernel_initializer=initializer,\n",
    "                             use_bias=False))\n",
    "\n",
    "    if apply_batchnorm:\n",
    "        result.add(tf.keras.layers.BatchNormalization())\n",
    "        \n",
    "    result.add(tf.keras.layers.ELU())\n",
    "\n",
    "    return result"
   ]
  },
  {
   "cell_type": "code",
   "execution_count": 100,
   "metadata": {},
   "outputs": [],
   "source": [
    "def gen_upsample(filters, size,apply_batchnorm = False):\n",
    "    initializer = tf.random_normal_initializer(0.04, 0.02)\n",
    "\n",
    "    result = tf.keras.Sequential()\n",
    "    result.add(\n",
    "    tf.keras.layers.Conv2DTranspose(filters, size, strides=2,\n",
    "                                    padding='same',\n",
    "                                    kernel_initializer=initializer,\n",
    "                                   use_bias=False))\n",
    "    if apply_batchnorm:\n",
    "        result.add(tf.keras.layers.BatchNormalization())\n",
    "        result.add(tf.keras.layers.ELU())\n",
    "\n",
    "    return result"
   ]
  },
  {
   "cell_type": "code",
   "execution_count": 101,
   "metadata": {},
   "outputs": [],
   "source": [
    "sd_random_normal_init = 0.135"
   ]
  },
  {
   "cell_type": "code",
   "execution_count": 102,
   "metadata": {},
   "outputs": [],
   "source": [
    "def EncoderNN():\n",
    "    down_stack_parent = [\n",
    "    gen_downsample_parent(32,4,apply_batchnorm=True, apply_dropout=True),\n",
    "    gen_downsample_parent(64,4,apply_batchnorm=True, apply_dropout=False)\n",
    "    ]\n",
    "    \n",
    "    down_stack_noise =[\n",
    "#   z = 4x4x64\n",
    "    gen_downsample_noise(64,4,apply_batchnorm=True), #8x8x64\n",
    "    gen_downsample_noise(32,4,apply_batchnorm=True) #16x16x32      \n",
    "    ]\n",
    "    \n",
    "    final_conv =[\n",
    "        gen_upsample(32,4 ,apply_batchnorm = True)\n",
    "    ]\n",
    "    \n",
    "    initializer = tf.random_normal_initializer(0.04, sd_random_normal_init)\n",
    "    last = tf.keras.layers.Conv2DTranspose(OUTPUT_CHANNELS, 4,\n",
    "                                         strides=2,\n",
    "                                         padding='same',\n",
    "                                         kernel_initializer=initializer,\n",
    "                                         activation='tanh')\n",
    "\n",
    "    concat = tf.keras.layers.Concatenate()\n",
    "\n",
    "    inputs = tf.keras.layers.Input(shape=(64,64,3))\n",
    "    \n",
    "    father = tf.reshape(inputs[0],(1,64,64,3))\n",
    "    mother = tf.reshape(inputs[1],(1,64,64,3))\n",
    "\n",
    "    \n",
    "#     create noise 4x4x64\n",
    "#     noise = tf.random.normal((1,4,4,64),mean=0.0,stddev=1.0,dtype=tf.dtypes.float32)\n",
    "#     print(noise.shape)\n",
    "    \n",
    "    \n",
    "    x1 = father\n",
    "    for down in down_stack_parent:\n",
    "        x1 = down(x1)\n",
    "    \n",
    "#     print(x1.shape)\n",
    "    \n",
    "    x2 = mother\n",
    "    for down in down_stack_parent:\n",
    "        x2 = down(x2) \n",
    "    \n",
    "#     print(x2.shape)\n",
    "    \n",
    "#     n = noise\n",
    "#     for down in down_stack_noise:\n",
    "#         print(n.shape)\n",
    "#         n = down(n)\n",
    "#     print(n.shape)\n",
    "#     print(\"NOISE STACK DONE\")\n",
    "    \n",
    "    final = concat([x1,x2])\n",
    "    final = final_conv[0](final)\n",
    "    \n",
    "    final = last(final)\n",
    "\n",
    "    return tf.keras.Model(inputs=inputs, outputs=final)"
   ]
  },
  {
   "cell_type": "raw",
   "metadata": {},
   "source": [
    "family_data = generate_image(all_families[700])\n",
    "noise = tf.random.normal((4,4,64),mean=0.0,stddev=1.0,dtype=tf.dtypes.float32)\n",
    "inp = np.array([family_data[0],family_data[1]])\n",
    "inp.shape"
   ]
  },
  {
   "cell_type": "code",
   "execution_count": 103,
   "metadata": {},
   "outputs": [],
   "source": [
    "encoder_optimizer = tf.keras.optimizers.Adam(learning_rate = 1e-4, beta_1=0.5)"
   ]
  },
  {
   "cell_type": "code",
   "execution_count": 104,
   "metadata": {},
   "outputs": [],
   "source": [
    "def tensor_to_array(tensor1):\n",
    "    return tensor1.numpy()"
   ]
  },
  {
   "cell_type": "code",
   "execution_count": 105,
   "metadata": {},
   "outputs": [],
   "source": [
    "def train_encoder(inp_batch, target_batch,b_size):\n",
    "    with tf.GradientTape() as enc_tape:\n",
    "        \n",
    "        inp_batch = tf.unstack(inp_batch)\n",
    "        target_batch = tf.unstack(target_batch)\n",
    "\n",
    "        encoder_loss =tf.Variable(0,dtype='float32')\n",
    "\n",
    "        for idx,inputs in enumerate(inp_batch):\n",
    "            gen_output = encoder(inputs, training=True)\n",
    "            encoder_loss = encoder_loss + tf.reduce_mean(tf.abs(target_batch[idx] - gen_output))\n",
    "            \n",
    "\n",
    "        encoder_loss/=b_size\n",
    "    \n",
    "    print(\"ENCODER_LOSS: \",tensor_to_array(encoder_loss))\n",
    "    #calculate gradients\n",
    "    encoder_gradients = enc_tape.gradient(encoder_loss,encoder.trainable_variables)\n",
    "\n",
    "    #apply gradients on optimizer\n",
    "    encoder_optimizer.apply_gradients(zip(encoder_gradients,encoder.trainable_variables))\n",
    "    \n"
   ]
  },
  {
   "cell_type": "code",
   "execution_count": 106,
   "metadata": {},
   "outputs": [],
   "source": [
    "def fit_encoder(train_ds, epochs, test_ds, batch):\n",
    "    losses=np.array([])\n",
    "    for epoch in range(epochs):\n",
    "        print(\"______________________________EPOCH %d_______________________________\"%(epoch+1))\n",
    "        start = time.time()\n",
    "        for i in range(len(train_ds)//batch):\n",
    "            loss_i =np.array([])\n",
    "            batch_data = np.asarray(generate_batch(train_ds[i*batch:(i+1)*batch]))\n",
    "#             batch_data = batch_data / 255 * 2 -1\n",
    "            \n",
    "            print(\"Generated batch\", batch_data.shape)\n",
    "\n",
    "            X_train = tf.convert_to_tensor([batch_data[:,0],batch_data[:,1]],dtype =tf.float32)\n",
    "            Y_train = tf.convert_to_tensor(batch_data[:,3],dtype =tf.float32)\n",
    "            \n",
    "            train_encoder(X_train,Y_train,batch)\n",
    "            \n",
    "            print(\"Trained for batch %d/%d\"%(i+1,(len(train_ds)//batch)))\n",
    "    print(\"______________________________TRAINING COMPLETED_______________________________\")"
   ]
  },
  {
   "cell_type": "code",
   "execution_count": 107,
   "metadata": {
    "scrolled": false
   },
   "outputs": [
    {
     "name": "stdout",
     "output_type": "stream",
     "text": [
      "______________________________EPOCH 1_______________________________\n",
      "Generated batch (250, 4, 64, 64, 3)\n",
      "ENCODER_LOSS:  1.1461406\n",
      "Trained for batch 1/6\n",
      "Generated batch (250, 4, 64, 64, 3)\n",
      "ENCODER_LOSS:  1.2124431\n",
      "Trained for batch 2/6\n",
      "Generated batch (250, 4, 64, 64, 3)\n",
      "ENCODER_LOSS:  1.230055\n",
      "Trained for batch 3/6\n",
      "Generated batch (250, 4, 64, 64, 3)\n",
      "ENCODER_LOSS:  1.0292498\n",
      "Trained for batch 4/6\n",
      "Generated batch (250, 4, 64, 64, 3)\n",
      "ENCODER_LOSS:  1.262659\n",
      "Trained for batch 5/6\n",
      "Generated batch (250, 4, 64, 64, 3)\n",
      "ENCODER_LOSS:  1.1310071\n",
      "Trained for batch 6/6\n",
      "______________________________EPOCH 2_______________________________\n",
      "Generated batch (250, 4, 64, 64, 3)\n",
      "ENCODER_LOSS:  1.1458569\n",
      "Trained for batch 1/6\n",
      "Generated batch (250, 4, 64, 64, 3)\n",
      "ENCODER_LOSS:  1.286603\n",
      "Trained for batch 2/6\n",
      "Generated batch (250, 4, 64, 64, 3)\n",
      "ENCODER_LOSS:  1.230346\n",
      "Trained for batch 3/6\n",
      "Generated batch (250, 4, 64, 64, 3)\n",
      "ENCODER_LOSS:  0.90748245\n",
      "Trained for batch 4/6\n",
      "Generated batch (250, 4, 64, 64, 3)\n",
      "ENCODER_LOSS:  0.98753154\n",
      "Trained for batch 5/6\n",
      "Generated batch (250, 4, 64, 64, 3)\n",
      "ENCODER_LOSS:  0.9037395\n",
      "Trained for batch 6/6\n",
      "______________________________EPOCH 3_______________________________\n",
      "Generated batch (250, 4, 64, 64, 3)\n",
      "ENCODER_LOSS:  1.1458843\n",
      "Trained for batch 1/6\n",
      "Generated batch (250, 4, 64, 64, 3)\n",
      "ENCODER_LOSS:  1.2124753\n",
      "Trained for batch 2/6\n",
      "Generated batch (250, 4, 64, 64, 3)\n",
      "ENCODER_LOSS:  1.1055807\n",
      "Trained for batch 3/6\n",
      "Generated batch (250, 4, 64, 64, 3)\n",
      "ENCODER_LOSS:  1.0292573\n",
      "Trained for batch 4/6\n",
      "Generated batch (250, 4, 64, 64, 3)\n",
      "ENCODER_LOSS:  1.1464782\n",
      "Trained for batch 5/6\n",
      "Generated batch (250, 4, 64, 64, 3)\n",
      "ENCODER_LOSS:  1.0846051\n",
      "Trained for batch 6/6\n",
      "______________________________EPOCH 4_______________________________\n",
      "Generated batch (250, 4, 64, 64, 3)\n",
      "ENCODER_LOSS:  1.1455024\n",
      "Trained for batch 1/6\n",
      "Generated batch (250, 4, 64, 64, 3)\n",
      "ENCODER_LOSS:  1.2866802\n",
      "Trained for batch 2/6\n",
      "Generated batch (250, 4, 64, 64, 3)\n",
      "ENCODER_LOSS:  1.2297977\n",
      "Trained for batch 3/6\n",
      "Generated batch (250, 4, 64, 64, 3)\n",
      "ENCODER_LOSS:  1.027543\n",
      "Trained for batch 4/6\n",
      "Generated batch (250, 4, 64, 64, 3)\n",
      "ENCODER_LOSS:  1.1468772\n",
      "Trained for batch 5/6\n",
      "Generated batch (250, 4, 64, 64, 3)\n",
      "ENCODER_LOSS:  0.93772256\n",
      "Trained for batch 6/6\n",
      "______________________________EPOCH 5_______________________________\n",
      "Generated batch (250, 4, 64, 64, 3)\n",
      "ENCODER_LOSS:  1.145262\n",
      "Trained for batch 1/6\n",
      "Generated batch (250, 4, 64, 64, 3)\n",
      "ENCODER_LOSS:  1.2867215\n",
      "Trained for batch 2/6\n",
      "Generated batch (250, 4, 64, 64, 3)\n",
      "ENCODER_LOSS:  1.1568995\n",
      "Trained for batch 3/6\n",
      "Generated batch (250, 4, 64, 64, 3)\n",
      "ENCODER_LOSS:  1.0295162\n",
      "Trained for batch 4/6\n",
      "Generated batch (250, 4, 64, 64, 3)\n",
      "ENCODER_LOSS:  0.9873128\n",
      "Trained for batch 5/6\n",
      "Generated batch (250, 4, 64, 64, 3)\n",
      "ENCODER_LOSS:  1.2457856\n",
      "Trained for batch 6/6\n",
      "______________________________EPOCH 6_______________________________\n",
      "Generated batch (250, 4, 64, 64, 3)\n",
      "ENCODER_LOSS:  1.1460704\n",
      "Trained for batch 1/6\n",
      "Generated batch (250, 4, 64, 64, 3)\n",
      "ENCODER_LOSS:  1.4051344\n",
      "Trained for batch 2/6\n",
      "Generated batch (250, 4, 64, 64, 3)\n",
      "ENCODER_LOSS:  1.0720298\n",
      "Trained for batch 3/6\n",
      "Generated batch (250, 4, 64, 64, 3)\n",
      "ENCODER_LOSS:  1.0293581\n",
      "Trained for batch 4/6\n",
      "Generated batch (250, 4, 64, 64, 3)\n",
      "ENCODER_LOSS:  1.1206439\n",
      "Trained for batch 5/6\n",
      "Generated batch (250, 4, 64, 64, 3)\n",
      "ENCODER_LOSS:  0.9037772\n",
      "Trained for batch 6/6\n",
      "______________________________EPOCH 7_______________________________\n",
      "Generated batch (250, 4, 64, 64, 3)\n",
      "ENCODER_LOSS:  1.1460512\n",
      "Trained for batch 1/6\n",
      "Generated batch (250, 4, 64, 64, 3)\n",
      "ENCODER_LOSS:  1.2132846\n",
      "Trained for batch 2/6\n",
      "Generated batch (250, 4, 64, 64, 3)\n",
      "ENCODER_LOSS:  1.1066252\n",
      "Trained for batch 3/6\n",
      "Generated batch (250, 4, 64, 64, 3)\n",
      "ENCODER_LOSS:  0.9266864\n",
      "Trained for batch 4/6\n",
      "Generated batch (250, 4, 64, 64, 3)\n",
      "ENCODER_LOSS:  1.4957639\n",
      "Trained for batch 5/6\n",
      "Generated batch (250, 4, 64, 64, 3)\n",
      "ENCODER_LOSS:  0.9039169\n",
      "Trained for batch 6/6\n",
      "______________________________EPOCH 8_______________________________\n",
      "Generated batch (250, 4, 64, 64, 3)\n",
      "ENCODER_LOSS:  1.1456001\n",
      "Trained for batch 1/6\n",
      "Generated batch (250, 4, 64, 64, 3)\n",
      "ENCODER_LOSS:  1.4053353\n",
      "Trained for batch 2/6\n",
      "Generated batch (250, 4, 64, 64, 3)\n",
      "ENCODER_LOSS:  1.3156065\n",
      "Trained for batch 3/6\n",
      "Generated batch (250, 4, 64, 64, 3)\n",
      "ENCODER_LOSS:  0.9776356\n",
      "Trained for batch 4/6\n",
      "Generated batch (250, 4, 64, 64, 3)\n",
      "ENCODER_LOSS:  0.9890372\n",
      "Trained for batch 5/6\n",
      "Generated batch (250, 4, 64, 64, 3)\n",
      "ENCODER_LOSS:  1.1972723\n",
      "Trained for batch 6/6\n",
      "______________________________EPOCH 9_______________________________\n",
      "Generated batch (250, 4, 64, 64, 3)\n",
      "ENCODER_LOSS:  1.1454421\n",
      "Trained for batch 1/6\n",
      "Generated batch (250, 4, 64, 64, 3)\n",
      "ENCODER_LOSS:  1.4051989\n",
      "Trained for batch 2/6\n",
      "Generated batch (250, 4, 64, 64, 3)\n",
      "ENCODER_LOSS:  1.0723009\n",
      "Trained for batch 3/6\n",
      "Generated batch (250, 4, 64, 64, 3)\n",
      "ENCODER_LOSS:  0.92660826\n",
      "Trained for batch 4/6\n",
      "Generated batch (250, 4, 64, 64, 3)\n",
      "ENCODER_LOSS:  1.1467642\n",
      "Trained for batch 5/6\n",
      "Generated batch (250, 4, 64, 64, 3)\n",
      "ENCODER_LOSS:  1.0445776\n",
      "Trained for batch 6/6\n",
      "______________________________EPOCH 10_______________________________\n",
      "Generated batch (250, 4, 64, 64, 3)\n",
      "ENCODER_LOSS:  1.14575\n",
      "Trained for batch 1/6\n",
      "Generated batch (250, 4, 64, 64, 3)\n",
      "ENCODER_LOSS:  1.4061964\n",
      "Trained for batch 2/6\n",
      "Generated batch (250, 4, 64, 64, 3)\n",
      "ENCODER_LOSS:  1.0724528\n",
      "Trained for batch 3/6\n",
      "Generated batch (250, 4, 64, 64, 3)\n",
      "ENCODER_LOSS:  1.0284009\n",
      "Trained for batch 4/6\n",
      "Generated batch (250, 4, 64, 64, 3)\n",
      "ENCODER_LOSS:  0.9069584\n",
      "Trained for batch 5/6\n",
      "Generated batch (250, 4, 64, 64, 3)\n",
      "ENCODER_LOSS:  1.197241\n",
      "Trained for batch 6/6\n",
      "______________________________TRAINING COMPLETED_______________________________\n"
     ]
    }
   ],
   "source": [
    "train_dataset = all_families[:-500]\n",
    "test_dataset = all_families[-500:]\n",
    "EPOCHS = 10\n",
    "batch = 250\n",
    "encoder = EncoderNN()\n",
    "\n",
    "with tf.device('/cpu:0'):\n",
    "    fit_encoder(train_dataset, EPOCHS, test_dataset,batch)"
   ]
  },
  {
   "cell_type": "code",
   "execution_count": null,
   "metadata": {},
   "outputs": [],
   "source": [
    "# epoch 10 batch = 250 mean 0.04 lr 1e-4 beta_1= 0.5\n",
    "family_data = generate_image(all_families[700])\n",
    "inp = [family_data[0],family_data[1]]\n",
    "inp = tf.cast(inp, tf.float32)\n",
    "with tf.device('/cpu:0'):\n",
    "    gen_output = encoder(inp, training=False)\n",
    "temp = gen_output.numpy()\n",
    "plt.imshow(np.squeeze(temp))\n",
    "# print(temp)\n",
    "print(np.amin(temp))\n",
    "print(np.amax(temp))"
   ]
  },
  {
   "cell_type": "code",
   "execution_count": 93,
   "metadata": {},
   "outputs": [
    {
     "name": "stderr",
     "output_type": "stream",
     "text": [
      "Clipping input data to the valid range for imshow with RGB data ([0..1] for floats or [0..255] for integers).\n"
     ]
    },
    {
     "name": "stdout",
     "output_type": "stream",
     "text": [
      "-0.7836988\n",
      "0.9999595\n"
     ]
    },
    {
     "data": {
      "image/png": "[encoded data removed]",
      "text/plain": [
       "<Figure size 432x288 with 1 Axes>"
      ]
     },
     "metadata": {
      "needs_background": "light"
     },
     "output_type": "display_data"
    }
   ],
   "source": [
    "# epoch 10 batch = 250 mean 0.02 lr 0.0005\n",
    "family_data = generate_image(all_families[700])\n",
    "inp = [family_data[0],family_data[1]]\n",
    "inp = tf.cast(inp, tf.float32)\n",
    "with tf.device('/cpu:0'):\n",
    "    gen_output = encoder(inp, training=False)\n",
    "temp = gen_output.numpy()\n",
    "plt.imshow(np.squeeze(temp))\n",
    "# print(temp)\n",
    "print(np.amin(temp))\n",
    "print(np.amax(temp))"
   ]
  },
  {
   "cell_type": "code",
   "execution_count": 60,
   "metadata": {},
   "outputs": [
    {
     "name": "stderr",
     "output_type": "stream",
     "text": [
      "Clipping input data to the valid range for imshow with RGB data ([0..1] for floats or [0..255] for integers).\n"
     ]
    },
    {
     "name": "stdout",
     "output_type": "stream",
     "text": [
      "-1.0000001\n",
      "0.9999994\n"
     ]
    },
    {
     "data": {
      "image/png": "[encoded data removed]",
      "text/plain": [
       "<Figure size 432x288 with 1 Axes>"
      ]
     },
     "metadata": {
      "needs_background": "light"
     },
     "output_type": "display_data"
    }
   ],
   "source": [
    "# epoch 20 batch = 400\n",
    "family_data = generate_image(all_families[700])\n",
    "inp = [family_data[0],family_data[1]]\n",
    "inp = tf.cast(inp, tf.float32)\n",
    "with tf.device('/cpu:0'):\n",
    "    gen_output = encoder(inp, training=False)\n",
    "temp = gen_output.numpy()\n",
    "plt.imshow(np.squeeze(temp))\n",
    "# print(temp)\n",
    "print(np.amin(temp))\n",
    "print(np.amax(temp))"
   ]
  },
  {
   "cell_type": "code",
   "execution_count": 52,
   "metadata": {},
   "outputs": [
    {
     "name": "stderr",
     "output_type": "stream",
     "text": [
      "Clipping input data to the valid range for imshow with RGB data ([0..1] for floats or [0..255] for integers).\n"
     ]
    },
    {
     "name": "stdout",
     "output_type": "stream",
     "text": [
      "-1.0000001\n",
      "0.9998396\n"
     ]
    },
    {
     "data": {
      "image/png": "[encoded data removed]",
      "text/plain": [
       "<Figure size 432x288 with 1 Axes>"
      ]
     },
     "metadata": {
      "needs_background": "light"
     },
     "output_type": "display_data"
    }
   ],
   "source": [
    "# epochs : 10 batch size 250\n",
    "family_data = generate_image(all_families[700])\n",
    "inp = [family_data[0],family_data[1]]\n",
    "inp = tf.cast(inp, tf.float32)\n",
    "with tf.device('/cpu:0'):\n",
    "    gen_output = encoder(inp, training=False)\n",
    "temp = gen_output.numpy()\n",
    "plt.imshow(np.squeeze(temp))\n",
    "# print(temp)\n",
    "print(np.amin(temp))\n",
    "print(np.amax(temp))"
   ]
  },
  {
   "cell_type": "code",
   "execution_count": 44,
   "metadata": {},
   "outputs": [
    {
     "name": "stderr",
     "output_type": "stream",
     "text": [
      "Clipping input data to the valid range for imshow with RGB data ([0..1] for floats or [0..255] for integers).\n"
     ]
    },
    {
     "name": "stdout",
     "output_type": "stream",
     "text": [
      "-1.0000001\n",
      "0.99984396\n"
     ]
    },
    {
     "data": {
      "image/png": "[encoded data removed]",
      "text/plain": [
       "<Figure size 432x288 with 1 Axes>"
      ]
     },
     "metadata": {
      "needs_background": "light"
     },
     "output_type": "display_data"
    }
   ],
   "source": [
    "#epochs = 4 batch_size : 250 \n",
    "family_data = generate_image(all_families[700])\n",
    "inp = [family_data[0],family_data[1]]\n",
    "inp = tf.cast(inp, tf.float32)\n",
    "with tf.device('/cpu:0'):\n",
    "    gen_output = encoder(inp, training=False)\n",
    "temp = gen_output.numpy()\n",
    "plt.imshow(np.squeeze(temp))\n",
    "# print(temp)\n",
    "print(np.amin(temp))\n",
    "print(np.amax(temp))"
   ]
  },
  {
   "cell_type": "code",
   "execution_count": null,
   "metadata": {},
   "outputs": [],
   "source": [
    "family_data = generate_image(all_families[700])\n",
    "inp = concat([family_data[0],family_data[1]])\n",
    "inp = tf.cast(inp, tf.float32)\n",
    "gen_output = encoder(inp[tf.newaxis,...], training=False)\n",
    "temp = gen_output.numpy()\n",
    "plt.imshow(np.squeeze(temp))\n",
    "# print(temp)\n",
    "print(np.amin(temp))\n",
    "print(np.amax(temp))"
   ]
  },
  {
   "cell_type": "code",
   "execution_count": null,
   "metadata": {},
   "outputs": [],
   "source": [
    "family_data = generate_image(all_families[700])\n",
    "inp = concat([family_data[0],family_data[1]])\n",
    "inp = tf.cast(inp, tf.float32)\n",
    "gen_output = encoder(inp[tf.newaxis,...], training=False)\n",
    "temp = gen_output.numpy()\n",
    "plt.imshow(np.squeeze(temp))\n",
    "# print(temp)\n",
    "print(np.amin(temp))\n",
    "print(np.amax(temp))"
   ]
  },
  {
   "cell_type": "code",
   "execution_count": null,
   "metadata": {},
   "outputs": [],
   "source": [
    "family_data = generate_image(all_families[700])\n",
    "inp = concat([family_data[0],family_data[1]])\n",
    "inp = tf.cast(inp, tf.float32)\n",
    "gen_output = encoder(inp[tf.newaxis,...], training=False)\n",
    "temp = gen_output.numpy()\n",
    "plt.imshow(np.squeeze(temp))\n",
    "# print(temp)\n",
    "print(np.amin(temp))\n",
    "print(np.amax(temp))\n",
    "# print(encoder.trainable_weights[0][0][0][0])"
   ]
  },
  {
   "cell_type": "raw",
   "metadata": {
    "scrolled": true
   },
   "source": [
    "# epochs = 1\n",
    "batch = 500\n",
    "\n",
    "for epoch in range(epochs):\n",
    "    # print(\"Epoch \", epoch , \" .....\")\n",
    "    for i in range(len(train_families)//batch):\n",
    "        batch_data = np.asarray(generate_batch(train_families[i*batch:(i+1)*batch]))\n",
    "        batch_data = batch_data / 255 * 2 -1\n",
    "        # print(\"Generated batch\", batch_data.shape)\n",
    "        \n",
    "        X_train = tf.convert_to_tensor(concat([batch_data[:,0],batch_data[:,1]]),dtype =tf.float32)\n",
    "        # print(\"Batch converted to tensor\")\n",
    "        \n",
    "        Y_train = batch_data[:,3]\n",
    "        history = encoder.fit(X_train, Y_train, batch_size=batch)\n",
    "print(\"Training DONE!\")"
   ]
  },
  {
   "cell_type": "raw",
   "metadata": {},
   "source": [
    "family_data = generate_image(all_families[1])\n",
    "inp = concat([family_data[0],family_data[1]])\n",
    "inp = tf.cast(inp, tf.float32)\n",
    "gen_output = encoder(inp[tf.newaxis,...], training=False)\n",
    "temp = gen_output.numpy()\n",
    "temp = np.squeeze(temp)\n",
    "plt.imshow(temp)\n",
    "\n",
    "print(np.amin(temp))\n",
    "print(np.amax(temp))\n",
    "print(encoder.trainable_weights[0][0][0][0])\n",
    "0.00196027\n",
    "# plt.imshow((gen_output[0]+1)/2)"
   ]
  },
  {
   "cell_type": "code",
   "execution_count": null,
   "metadata": {},
   "outputs": [],
   "source": [
    "def Discriminator():\n",
    "    initializer = tf.random_normal_initializer(0., sd_random_normal_init)\n",
    "\n",
    "    inp = tf.keras.layers.Input(shape=[64, 64, 6], name='input_image')\n",
    "    tar = tf.keras.layers.Input(shape=[64, 64, 3], name='target_image')\n",
    "\n",
    "    x = tf.reshape(tf.keras.layers.concatenate([inp, tar]),(1,64,64,9))\n",
    "    down1 = downsample(32, 4, True)(x)\n",
    "    down2 = downsample(64, 4,True)(down1) \n",
    "    down3 = downsample(128, 4,True)(down2) \n",
    "\n",
    "#     zero_pad1 = tf.keras.layers.ZeroPadding2D()(down3) \n",
    "    conv = tf.keras.layers.Conv2D(256, 3, strides=1,\n",
    "                                kernel_initializer=initializer,\n",
    "                                use_bias=True)(down3)\n",
    "\n",
    "    batchnorm1 = tf.keras.layers.BatchNormalization()(conv)\n",
    "\n",
    "    leaky_relu = tf.keras.layers.LeakyReLU()(batchnorm1)\n",
    "\n",
    "#     zero_pad2 = tf.keras.layers.ZeroPadding2D()(leaky_relu)\n",
    "\n",
    "    last = tf.keras.layers.Conv2D(1, 3, strides=1,\n",
    "                                kernel_initializer=initializer)(leaky_relu) \n",
    "    return tf.keras.Model(inputs=[inp, tar], outputs=last)"
   ]
  },
  {
   "cell_type": "code",
   "execution_count": null,
   "metadata": {},
   "outputs": [],
   "source": [
    "gen_output = encoder(inp[tf.newaxis,...], training=False)\n",
    "\n",
    "target = family_data[2]\n",
    "discriminator = Discriminator()\n",
    "disc_out = discriminator([inp, tf.squeeze(gen_output)], training=False)\n",
    "print(disc_out.numpy().shape)\n",
    "plt.imshow(disc_out[0,...,-1], vmin=-20, vmax=20, cmap='RdBu_r')\n",
    "plt.colorbar()"
   ]
  },
  {
   "cell_type": "code",
   "execution_count": null,
   "metadata": {},
   "outputs": [],
   "source": [
    "LAMBDA = 100"
   ]
  },
  {
   "cell_type": "code",
   "execution_count": null,
   "metadata": {},
   "outputs": [],
   "source": [
    "loss_object = tf.keras.losses.BinaryCrossentropy()"
   ]
  },
  {
   "cell_type": "code",
   "execution_count": null,
   "metadata": {},
   "outputs": [],
   "source": [
    "def tensor_to_array(tensor1):\n",
    "    return tensor1.numpy()"
   ]
  },
  {
   "cell_type": "code",
   "execution_count": null,
   "metadata": {},
   "outputs": [],
   "source": [
    "def discriminator_loss(disc_real_output, disc_generated_output):\n",
    "    real_loss = loss_object(tf.ones_like(disc_real_output,dtype=tf.float32), disc_real_output)\n",
    "    generated_loss = loss_object(tf.zeros_like(disc_generated_output,dtype=tf.float32), disc_generated_output)\n",
    "    total_disc_loss = real_loss + generated_loss\n",
    "    return total_disc_loss"
   ]
  },
  {
   "cell_type": "code",
   "execution_count": null,
   "metadata": {},
   "outputs": [],
   "source": [
    "def generator_loss(disc_generated_output, gen_output, target):\n",
    "    gan_loss = loss_object(tf.ones_like(disc_generated_output,dtype=tf.float32), disc_generated_output)\n",
    "  # mean absolute error\n",
    "    l1_loss = tf.reduce_mean(tf.abs(target - gen_output))\n",
    "    total_gen_loss = gan_loss + (LAMBDA * l1_loss)\n",
    "    return total_gen_loss"
   ]
  },
  {
   "cell_type": "code",
   "execution_count": null,
   "metadata": {},
   "outputs": [],
   "source": [
    "generator_optimizer = tf.keras.optimizers.Adam(2e-4, beta_1=0.5)\n",
    "discriminator_optimizer = tf.keras.optimizers.Adam(2e-4, beta_1=0.5)"
   ]
  },
  {
   "cell_type": "code",
   "execution_count": null,
   "metadata": {},
   "outputs": [],
   "source": [
    "def train_step(inp_batch, target_batch,b_size):\n",
    "    with tf.GradientTape() as gen_tape, tf.GradientTape() as disc_tape:\n",
    "        \n",
    "        inp_batch = tf.unstack(inp_batch)\n",
    "        target_batch = tf.unstack(target_batch)\n",
    "\n",
    "        gen_loss =tf.Variable(0,dtype='float32')\n",
    "        disc_loss =tf.Variable(0,dtype='float32')\n",
    "\n",
    "        for idx,input_image in enumerate(inp_batch):\n",
    "            gen_output = encoder(input_image[tf.newaxis,...], training=True)\n",
    "            disc_real_output = discriminator([input_image, target_batch[idx]], training=True)\n",
    "            disc_generated_output = discriminator([input_image, tf.squeeze(gen_output)], training=True)\n",
    "            gen_loss = gen_loss + generator_loss(disc_generated_output, gen_output, target_batch[idx])\n",
    "            disc_loss = disc_loss + discriminator_loss(disc_real_output, disc_generated_output)\n",
    "\n",
    "\n",
    "        gen_loss/=b_size\n",
    "        disc_loss/=b_size\n",
    "        \n",
    "    print(\"GEN_LOSS\",tensor_to_array(gen_loss))\n",
    "    print(\"DISC_LOSS\",tensor_to_array(disc_loss))\n",
    "\n",
    "    generator_gradients = gen_tape.gradient(gen_loss,encoder.trainable_variables)\n",
    "    discriminator_gradients = disc_tape.gradient(disc_loss,discriminator.trainable_variables)\n",
    "\n",
    "    generator_optimizer.apply_gradients(zip(generator_gradients,\n",
    "                                          encoder.trainable_variables))\n",
    "    discriminator_optimizer.apply_gradients(zip(discriminator_gradients,\n",
    "                                              discriminator.trainable_variables))"
   ]
  },
  {
   "cell_type": "code",
   "execution_count": null,
   "metadata": {},
   "outputs": [],
   "source": [
    "def fit(train_ds, epochs, test_ds,batch):\n",
    "    for epoch in range(epochs):\n",
    "        print(\"______________________________EPOCH %d_______________________________\"%(epoch))\n",
    "        start = time.time()\n",
    "        for i in range(len(train_ds)//batch):\n",
    "            batch_data = np.asarray(generate_batch(train_ds[i*batch:(i+1)*batch]))\n",
    "\n",
    "            print(\"Generated batch\", batch_data.shape)\n",
    "\n",
    "            X_train = tf.convert_to_tensor(concat([batch_data[:,0],batch_data[:,1]]),dtype =tf.float32)\n",
    "#             print(\"Xtrain\",X_train.shape)\n",
    "#             print(\"Batch converted to tensor\")\n",
    "\n",
    "            Y_train = tf.convert_to_tensor(batch_data[:,3],dtype =tf.float32)\n",
    "            train_step(X_train,Y_train,batch)\n",
    "            print(\"Trained for batch %d/%d\"%(i+1,(len(train_ds)//batch)))\n",
    "    print(\"______________________________TRAINING COMPLETED_______________________________\")\n",
    "    checkpoint.save(file_prefix = checkpoint_prefix)"
   ]
  },
  {
   "cell_type": "code",
   "execution_count": null,
   "metadata": {},
   "outputs": [],
   "source": [
    "train_dataset = all_families[:-500]\n",
    "test_dataset = all_families[-500:]\n",
    "EPOCHS = 1\n",
    "batch = 300\n",
    "encoder = EncoderNN()\n",
    "discriminator = Discriminator()"
   ]
  },
  {
   "cell_type": "code",
   "execution_count": null,
   "metadata": {},
   "outputs": [],
   "source": [
    "checkpoint_dir = './checkpoint'\n",
    "checkpoint_prefix = os.path.join(checkpoint_dir, \"ckpt\")\n",
    "checkpoint = tf.train.Checkpoint(generator_optimizer=generator_optimizer,\n",
    "                                 discriminator_optimizer=discriminator_optimizer,\n",
    "                                 generator=encoder,\n",
    "                                 discriminator=discriminator)"
   ]
  },
  {
   "cell_type": "code",
   "execution_count": null,
   "metadata": {
    "scrolled": true
   },
   "outputs": [],
   "source": [
    "with tf.device('/cpu:0'):\n",
    "    fit(train_dataset, EPOCHS, test_dataset,batch)"
   ]
  },
  {
   "cell_type": "code",
   "execution_count": null,
   "metadata": {},
   "outputs": [],
   "source": [
    "family_data = generate_image(all_families[502])\n",
    "inp = concat([family_data[0],family_data[1]])\n",
    "inp = tf.cast(inp, tf.float32)\n",
    "gen_output = encoder(inp[tf.newaxis,...], training=False)\n",
    "print(tf.reduce_min(gen_output))\n",
    "print(tf.reduce_max(gen_output))\n",
    "plt.imshow(gen_output[0,...])"
   ]
  },
  {
   "cell_type": "code",
   "execution_count": null,
   "metadata": {},
   "outputs": [],
   "source": [
    " "
   ]
  }
 ],
 "metadata": {
  "kernelspec": {
   "display_name": "gpu-3.7",
   "language": "python",
   "name": "gpu-3.7"
  },
  "language_info": {
   "codemirror_mode": {
    "name": "ipython",
    "version": 3
   },
   "file_extension": ".py",
   "mimetype": "text/x-python",
   "name": "python",
   "nbconvert_exporter": "python",
   "pygments_lexer": "ipython3",
   "version": "3.7.5"
  }
 },
 "nbformat": 4,
 "nbformat_minor": 2
}
