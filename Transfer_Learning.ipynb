{
 "cells": [
  {
   "cell_type": "code",
   "execution_count": 1,
   "metadata": {},
   "outputs": [
    {
     "name": "stdout",
     "output_type": "stream",
     "text": [
      "True\n",
      "3.7.5\n"
     ]
    }
   ],
   "source": [
    "from platform import python_version\n",
    "import tensorflow as tf\n",
    "\n",
    "print(tf.test.is_gpu_available())\n",
    "print(python_version())"
   ]
  },
  {
   "cell_type": "code",
   "execution_count": 2,
   "metadata": {},
   "outputs": [
    {
     "name": "stderr",
     "output_type": "stream",
     "text": [
      "Using TensorFlow backend.\n"
     ]
    }
   ],
   "source": [
    "import os\n",
    "import numpy as np\n",
    "from os import listdir\n",
    "from PIL import Image\n",
    "import time\n",
    "import tensorflow as tf\n",
    "from tensorflow.keras import layers,models,optimizers\n",
    "from keras import backend as K\n",
    "import matplotlib.pyplot as plt"
   ]
  },
  {
   "cell_type": "code",
   "execution_count": 3,
   "metadata": {},
   "outputs": [],
   "source": [
    "def tensor_to_array(tensor1):\n",
    "    return tensor1.numpy()"
   ]
  },
  {
   "cell_type": "code",
   "execution_count": 4,
   "metadata": {},
   "outputs": [],
   "source": [
    "path=\"datasets/child_PreGen_data/\"\n",
    "randomiser = np.random.RandomState(123)"
   ]
  },
  {
   "cell_type": "code",
   "execution_count": 5,
   "metadata": {},
   "outputs": [],
   "source": [
    "for r, d, f in os.walk(path):\n",
    "    all_child = f"
   ]
  },
  {
   "cell_type": "code",
   "execution_count": 6,
   "metadata": {},
   "outputs": [],
   "source": [
    "def generate_batch(child_batch):\n",
    "    np_images=[]\n",
    "    for child in child_batch:\n",
    "        res = np.array(Image.open(path+child))\n",
    "        np_images.append(res)\n",
    "    return np_images"
   ]
  },
  {
   "cell_type": "code",
   "execution_count": 7,
   "metadata": {},
   "outputs": [],
   "source": [
    "img_size = 64\n",
    "mean = 0.\n",
    "std_dev = 0.02\n",
    "lr = 0.0001\n",
    "b1 = 0.9\n",
    "b2 = 0.99\n",
    "sd_random_normal_init = 0.02\n",
    "\n",
    "EPOCHS = 30\n",
    "batch = 64"
   ]
  },
  {
   "cell_type": "code",
   "execution_count": 8,
   "metadata": {},
   "outputs": [],
   "source": [
    "def pre_gen_upsample(filters, size,apply_batchnorm = False):\n",
    "    initializer = tf.random_normal_initializer(mean, std_dev)\n",
    "\n",
    "    result = tf.keras.Sequential()\n",
    "    result.add(\n",
    "    tf.keras.layers.Conv2DTranspose(filters, size, strides=2,\n",
    "                                    padding='same',\n",
    "                                    kernel_initializer=initializer,\n",
    "                                   use_bias=False))\n",
    "    if apply_batchnorm:\n",
    "        result.add(tf.keras.layers.BatchNormalization())\n",
    "        result.add(tf.keras.layers.ELU())\n",
    "\n",
    "    return result"
   ]
  },
  {
   "cell_type": "code",
   "execution_count": 9,
   "metadata": {},
   "outputs": [],
   "source": [
    "OUTPUT_CHANNELS = 3"
   ]
  },
  {
   "cell_type": "code",
   "execution_count": 10,
   "metadata": {},
   "outputs": [],
   "source": [
    "def Pre_Generator():\n",
    "    \n",
    "    up_stack_noise = [\n",
    "    pre_gen_upsample(64,4,apply_batchnorm=True), #8x8x64\n",
    "    pre_gen_upsample(32,4,apply_batchnorm=True), #16x16x64\n",
    "    pre_gen_upsample(32,4,apply_batchnorm=True)  #32x32x32\n",
    "    ]\n",
    "    \n",
    "    initializer = tf.random_normal_initializer(mean, sd_random_normal_init)\n",
    "    last = tf.keras.layers.Conv2DTranspose(OUTPUT_CHANNELS, 4,\n",
    "                                         strides=2,\n",
    "                                         padding='same',\n",
    "                                         kernel_initializer=initializer,\n",
    "                                         activation='tanh')\n",
    "    \n",
    "    noise = tf.keras.layers.Input(shape=(4,4,64))\n",
    "    \n",
    "    x = noise\n",
    "    for up in up_stack_noise:\n",
    "        x = up(x)\n",
    "#     print(x.shape)\n",
    "    output = last(x)\n",
    "#     print(output.shape)\n",
    "    return tf.keras.Model(inputs=noise, outputs=output)"
   ]
  },
  {
   "cell_type": "code",
   "execution_count": 11,
   "metadata": {},
   "outputs": [],
   "source": [
    "def pre_disc_downsample(filters, size, apply_batchnorm=True):\n",
    "    initializer = tf.random_normal_initializer(mean, std_dev) \n",
    "  \n",
    "    result = tf.keras.Sequential()\n",
    "    result.add(\n",
    "      tf.keras.layers.Conv2D(filters, size, strides=2, padding='same',\n",
    "                             kernel_initializer=initializer,\n",
    "                             use_bias=False))\n",
    "\n",
    "    if apply_batchnorm:\n",
    "        result.add(tf.keras.layers.BatchNormalization())\n",
    "        \n",
    "    result.add(tf.keras.layers.LeakyReLU(alpha = 0.2))\n",
    "\n",
    "    return result"
   ]
  },
  {
   "cell_type": "code",
   "execution_count": 12,
   "metadata": {},
   "outputs": [],
   "source": [
    "def Pre_Discriminator():\n",
    "    \n",
    "    down_stack_image = [\n",
    "    pre_disc_downsample(32,4,apply_batchnorm=False), #32x32x32\n",
    "    pre_disc_downsample(64,4,apply_batchnorm=True), #16x16x64\n",
    "    pre_disc_downsample(64,4,apply_batchnorm=True),  #8x8x64\n",
    "    pre_disc_downsample(256,4,apply_batchnorm=False) #4x4x256\n",
    "        \n",
    "    ]\n",
    "    \n",
    "    initializer = tf.random_normal_initializer(mean, sd_random_normal_init)\n",
    "    last = tf.keras.layers.Conv2DTranspose(1, 4,\n",
    "                                         strides=1,\n",
    "                                         padding='same',\n",
    "                                         kernel_initializer=initializer,\n",
    "                                         activation='sigmoid')\n",
    "    \n",
    "    image = tf.keras.layers.Input(shape=(64,64,3))\n",
    "    print(image.shape)\n",
    "    x = image\n",
    "    for down in down_stack_image:\n",
    "        x = down(x)\n",
    "#         print(x.shape)\n",
    "    output = last(x)\n",
    "#     print(output.shape)\n",
    "\n",
    "    return tf.keras.Model(inputs=image, outputs=output)"
   ]
  },
  {
   "cell_type": "code",
   "execution_count": 13,
   "metadata": {},
   "outputs": [],
   "source": [
    "bce = tf.keras.losses.BinaryCrossentropy()"
   ]
  },
  {
   "cell_type": "code",
   "execution_count": 14,
   "metadata": {},
   "outputs": [],
   "source": [
    "pre_gen_optimizer = tf.keras.optimizers.Adam(learning_rate = lr, beta_1=b1, beta_2= b2)\n",
    "pre_disc_optimizer = tf.keras.optimizers.Adam(learning_rate = lr, beta_1=b1, beta_2= b2)"
   ]
  },
  {
   "cell_type": "code",
   "execution_count": 15,
   "metadata": {},
   "outputs": [],
   "source": [
    "def train_PreGAN(noise_batch, target_batch, b_size):\n",
    "    with tf.GradientTape() as pre_gen_tape ,tf.GradientTape() as pre_disc_tape:\n",
    "        \n",
    "        pre_gen_outputs = pre_gen(noise_batch, training=True)\n",
    "        disc_pre_gen_out = pre_disc(pre_gen_outputs, training=True)\n",
    "        disc_target_out = pre_disc(target_batch,training=True)\n",
    "        ones = tf.ones_like(disc_pre_gen_out)\n",
    "        zeros = tf.zeros_like(disc_pre_gen_out)\n",
    "        \n",
    "        disc_loss = bce(ones,disc_target_out) + bce(zeros,disc_pre_gen_out)\n",
    "        gen_loss = bce(ones,disc_pre_gen_out)\n",
    "        \n",
    "    \n",
    "#     print(\"GEN_LOSS: \",tensor_to_array(gen_loss))\n",
    "#     print(\"DISC_LOSS: \",tensor_to_array(disc_loss))\n",
    "    \n",
    "    #calculate gradients\n",
    "    pre_gen_gradients = pre_gen_tape.gradient(gen_loss,pre_gen.trainable_variables)\n",
    "    pre_disc_gradients = pre_disc_tape.gradient(disc_loss,pre_disc.trainable_variables)\n",
    "    \n",
    "    #apply gradients on optimizer\n",
    "    pre_gen_optimizer.apply_gradients(zip(pre_gen_gradients,pre_gen.trainable_variables))\n",
    "    pre_disc_optimizer.apply_gradients(zip(pre_disc_gradients,pre_disc.trainable_variables))\n",
    "    return gen_loss, disc_loss"
   ]
  },
  {
   "cell_type": "code",
   "execution_count": 16,
   "metadata": {},
   "outputs": [],
   "source": [
    "gen_loss_history = []\n",
    "disc_loss_history = []\n",
    "def fit_encoder(all_child, epochs, batch):\n",
    "    no_of_iter = len(all_child)//batch\n",
    "    for epoch in range(epochs):\n",
    "        print(\"______________________________EPOCH %d_______________________________\"%(epoch+1))\n",
    "        start = time.time()\n",
    "        gen_epoch_loss = 0.0\n",
    "        disc_epoch_loss = 0.0\n",
    "        \n",
    "        for i in range(no_of_iter):\n",
    "            batch_data = np.asarray(generate_batch(all_child[i*batch:(i+1)*batch]))\n",
    "            child_batch= batch_data / 255 * 2 -1\n",
    "            \n",
    "            \n",
    "#             print(\"Generated batch\", batch_data.shape)\n",
    "            \n",
    "            noise = tf.random.normal((batch,4,4,64),mean= 0.0, stddev=1.0)\n",
    "\n",
    "            gen_batch_loss, disc_batch_loss = train_PreGAN(noise, child_batch,batch)\n",
    "            gen_epoch_loss += gen_batch_loss\n",
    "            disc_epoch_loss += disc_batch_loss\n",
    "#             print(\"Trained for batch %d/%d\"%(i+1,(len(all_child)//batch)))\n",
    "            \n",
    "        gen_epoch_loss /= no_of_iter\n",
    "        disc_epoch_loss /= no_of_iter\n",
    "        \n",
    "        print(\"GEN_EPOCH_LOSS:\",gen_epoch_loss)\n",
    "        print(\"DISC_EPOCH_LOSS\",disc_epoch_loss)\n",
    "        \n",
    "        if (epoch%1 == 0):\n",
    "            gen_loss_history.append(gen_epoch_loss)\n",
    "            disc_loss_history.append(disc_epoch_loss)\n",
    "        \n",
    "        pre_gen.save_weights(filepath='checkpoint/pre_gan_weights/epoch_%d_preG.pth' % (epoch))\n",
    "        pre_disc.save_weights(filepath='checkpoint/pre_gan_weights/epoch_%d_preD.pth' % (epoch))\n",
    "        \n",
    "        \n",
    "    print(\"______________________________TRAINING COMPLETED_______________________________\")"
   ]
  },
  {
   "cell_type": "code",
   "execution_count": 17,
   "metadata": {},
   "outputs": [
    {
     "name": "stdout",
     "output_type": "stream",
     "text": [
      "(None, 64, 64, 3)\n",
      "______________________________EPOCH 1_______________________________\n",
      "WARNING:tensorflow:Layer sequential_3 is casting an input tensor from dtype float64 to the layer's dtype of float32, which is new behavior in TensorFlow 2.  The layer has dtype float32 because it's dtype defaults to floatx.\n",
      "\n",
      "If you intended to run this layer in float32, you can safely ignore this warning. If in doubt, this warning is likely only an issue if you are porting a TensorFlow 1.X model to TensorFlow 2.\n",
      "\n",
      "To change all layers to have dtype float64 by default, call `tf.keras.backend.set_floatx('float64')`. To change just this layer, pass dtype='float64' to the layer constructor. If you are the author of this layer, you can disable autocasting by passing autocast=False to the base Layer constructor.\n",
      "\n",
      "GEN_EPOCH_LOSS: tf.Tensor(1.0009227, shape=(), dtype=float32)\n",
      "DISC_EPOCH_LOSS tf.Tensor(0.95954084, shape=(), dtype=float32)\n",
      "______________________________EPOCH 2_______________________________\n",
      "GEN_EPOCH_LOSS: tf.Tensor(2.0685318, shape=(), dtype=float32)\n",
      "DISC_EPOCH_LOSS tf.Tensor(0.38219282, shape=(), dtype=float32)\n",
      "______________________________EPOCH 3_______________________________\n",
      "GEN_EPOCH_LOSS: tf.Tensor(3.1728945, shape=(), dtype=float32)\n",
      "DISC_EPOCH_LOSS tf.Tensor(0.16601433, shape=(), dtype=float32)\n",
      "______________________________EPOCH 4_______________________________\n",
      "GEN_EPOCH_LOSS: tf.Tensor(4.1695495, shape=(), dtype=float32)\n",
      "DISC_EPOCH_LOSS tf.Tensor(0.08930524, shape=(), dtype=float32)\n",
      "______________________________EPOCH 5_______________________________\n",
      "GEN_EPOCH_LOSS: tf.Tensor(4.8404284, shape=(), dtype=float32)\n",
      "DISC_EPOCH_LOSS tf.Tensor(0.066435926, shape=(), dtype=float32)\n",
      "______________________________EPOCH 6_______________________________\n",
      "GEN_EPOCH_LOSS: tf.Tensor(5.5406528, shape=(), dtype=float32)\n",
      "DISC_EPOCH_LOSS tf.Tensor(0.03929696, shape=(), dtype=float32)\n",
      "______________________________EPOCH 7_______________________________\n",
      "GEN_EPOCH_LOSS: tf.Tensor(6.289074, shape=(), dtype=float32)\n",
      "DISC_EPOCH_LOSS tf.Tensor(0.034319196, shape=(), dtype=float32)\n",
      "______________________________EPOCH 8_______________________________\n",
      "GEN_EPOCH_LOSS: tf.Tensor(6.9342113, shape=(), dtype=float32)\n",
      "DISC_EPOCH_LOSS tf.Tensor(0.020224018, shape=(), dtype=float32)\n",
      "______________________________EPOCH 9_______________________________\n",
      "GEN_EPOCH_LOSS: tf.Tensor(7.04742, shape=(), dtype=float32)\n",
      "DISC_EPOCH_LOSS tf.Tensor(0.017199902, shape=(), dtype=float32)\n",
      "______________________________EPOCH 10_______________________________\n",
      "GEN_EPOCH_LOSS: tf.Tensor(6.421785, shape=(), dtype=float32)\n",
      "DISC_EPOCH_LOSS tf.Tensor(0.026399255, shape=(), dtype=float32)\n",
      "______________________________EPOCH 11_______________________________\n",
      "GEN_EPOCH_LOSS: tf.Tensor(5.5698004, shape=(), dtype=float32)\n",
      "DISC_EPOCH_LOSS tf.Tensor(0.043544676, shape=(), dtype=float32)\n",
      "______________________________EPOCH 12_______________________________\n",
      "GEN_EPOCH_LOSS: tf.Tensor(5.680248, shape=(), dtype=float32)\n",
      "DISC_EPOCH_LOSS tf.Tensor(0.04321176, shape=(), dtype=float32)\n",
      "______________________________EPOCH 13_______________________________\n",
      "GEN_EPOCH_LOSS: tf.Tensor(5.429206, shape=(), dtype=float32)\n",
      "DISC_EPOCH_LOSS tf.Tensor(0.04698491, shape=(), dtype=float32)\n",
      "______________________________EPOCH 14_______________________________\n",
      "GEN_EPOCH_LOSS: tf.Tensor(6.066788, shape=(), dtype=float32)\n",
      "DISC_EPOCH_LOSS tf.Tensor(0.06785247, shape=(), dtype=float32)\n",
      "______________________________EPOCH 15_______________________________\n",
      "GEN_EPOCH_LOSS: tf.Tensor(5.297416, shape=(), dtype=float32)\n",
      "DISC_EPOCH_LOSS tf.Tensor(0.11903602, shape=(), dtype=float32)\n",
      "______________________________EPOCH 16_______________________________\n",
      "GEN_EPOCH_LOSS: tf.Tensor(5.3650484, shape=(), dtype=float32)\n",
      "DISC_EPOCH_LOSS tf.Tensor(0.07575326, shape=(), dtype=float32)\n",
      "______________________________EPOCH 17_______________________________\n",
      "GEN_EPOCH_LOSS: tf.Tensor(5.371276, shape=(), dtype=float32)\n",
      "DISC_EPOCH_LOSS tf.Tensor(0.0646155, shape=(), dtype=float32)\n",
      "______________________________EPOCH 18_______________________________\n",
      "GEN_EPOCH_LOSS: tf.Tensor(5.7250247, shape=(), dtype=float32)\n",
      "DISC_EPOCH_LOSS tf.Tensor(0.05464107, shape=(), dtype=float32)\n",
      "______________________________EPOCH 19_______________________________\n",
      "GEN_EPOCH_LOSS: tf.Tensor(5.987612, shape=(), dtype=float32)\n",
      "DISC_EPOCH_LOSS tf.Tensor(0.08363404, shape=(), dtype=float32)\n",
      "______________________________EPOCH 20_______________________________\n",
      "GEN_EPOCH_LOSS: tf.Tensor(5.6766167, shape=(), dtype=float32)\n",
      "DISC_EPOCH_LOSS tf.Tensor(0.071556, shape=(), dtype=float32)\n",
      "______________________________EPOCH 21_______________________________\n",
      "GEN_EPOCH_LOSS: tf.Tensor(5.0846744, shape=(), dtype=float32)\n",
      "DISC_EPOCH_LOSS tf.Tensor(0.09353558, shape=(), dtype=float32)\n",
      "______________________________EPOCH 22_______________________________\n",
      "GEN_EPOCH_LOSS: tf.Tensor(5.7012806, shape=(), dtype=float32)\n",
      "DISC_EPOCH_LOSS tf.Tensor(0.06115666, shape=(), dtype=float32)\n",
      "______________________________EPOCH 23_______________________________\n",
      "GEN_EPOCH_LOSS: tf.Tensor(5.403769, shape=(), dtype=float32)\n",
      "DISC_EPOCH_LOSS tf.Tensor(0.07127299, shape=(), dtype=float32)\n",
      "______________________________EPOCH 24_______________________________\n",
      "GEN_EPOCH_LOSS: tf.Tensor(5.7662444, shape=(), dtype=float32)\n",
      "DISC_EPOCH_LOSS tf.Tensor(0.05083852, shape=(), dtype=float32)\n",
      "______________________________EPOCH 25_______________________________\n",
      "GEN_EPOCH_LOSS: tf.Tensor(5.087556, shape=(), dtype=float32)\n",
      "DISC_EPOCH_LOSS tf.Tensor(0.12989765, shape=(), dtype=float32)\n",
      "______________________________EPOCH 26_______________________________\n",
      "GEN_EPOCH_LOSS: tf.Tensor(5.393334, shape=(), dtype=float32)\n",
      "DISC_EPOCH_LOSS tf.Tensor(0.10697419, shape=(), dtype=float32)\n",
      "______________________________EPOCH 27_______________________________\n",
      "GEN_EPOCH_LOSS: tf.Tensor(5.459697, shape=(), dtype=float32)\n",
      "DISC_EPOCH_LOSS tf.Tensor(0.09532097, shape=(), dtype=float32)\n",
      "______________________________EPOCH 28_______________________________\n",
      "GEN_EPOCH_LOSS: tf.Tensor(5.2289767, shape=(), dtype=float32)\n",
      "DISC_EPOCH_LOSS tf.Tensor(0.11627013, shape=(), dtype=float32)\n",
      "______________________________EPOCH 29_______________________________\n",
      "GEN_EPOCH_LOSS: tf.Tensor(5.067729, shape=(), dtype=float32)\n",
      "DISC_EPOCH_LOSS tf.Tensor(0.13145219, shape=(), dtype=float32)\n",
      "______________________________EPOCH 30_______________________________\n",
      "GEN_EPOCH_LOSS: tf.Tensor(4.7869296, shape=(), dtype=float32)\n",
      "DISC_EPOCH_LOSS tf.Tensor(0.15375896, shape=(), dtype=float32)\n",
      "______________________________TRAINING COMPLETED_______________________________\n"
     ]
    }
   ],
   "source": [
    "pre_gen = Pre_Generator()\n",
    "pre_disc = Pre_Discriminator()\n",
    "with tf.device('/gpu:0'):\n",
    "    fit_encoder(all_child, EPOCHS,batch)\n",
    "    gen_loss_history = tf.stack(gen_loss_history)\n",
    "    disc_loss_history = tf.stack(disc_loss_history)"
   ]
  },
  {
   "cell_type": "code",
   "execution_count": 18,
   "metadata": {},
   "outputs": [
    {
     "data": {
      "text/plain": [
       "[<matplotlib.lines.Line2D at 0x1d41e0b7fc8>]"
      ]
     },
     "execution_count": 18,
     "metadata": {},
     "output_type": "execute_result"
    },
    {
     "data": {
      "image/png": "[encoded data removed]",
      "text/plain": [
       "<Figure size 432x288 with 2 Axes>"
      ]
     },
     "metadata": {
      "needs_background": "light"
     },
     "output_type": "display_data"
    }
   ],
   "source": [
    "gen_loss_history = gen_loss_history.numpy()\n",
    "disc_loss_history = disc_loss_history.numpy()\n",
    "#add plot for this\n",
    "plt.subplot(2,1,1)\n",
    "plt.plot(gen_loss_history)\n",
    "plt.subplot(2,1,2)\n",
    "plt.plot(disc_loss_history)\n"
   ]
  },
  {
   "cell_type": "code",
   "execution_count": null,
   "metadata": {},
   "outputs": [],
   "source": [
    "noise = tf.random.normal((1,4,4,64),mean= 0.0, stddev=1.0)"
   ]
  },
  {
   "cell_type": "code",
   "execution_count": null,
   "metadata": {},
   "outputs": [],
   "source": [
    "pre_gen = Pre_Generator()\n",
    "pre_disc = Pre_Discriminator()\n",
    "\n",
    "with tf.device('/cpu:0'):\n",
    "    gen_output = pre_gen(noise, training=True)\n",
    "temp = gen_output.numpy()\n",
    "plt.imshow(np.squeeze(temp))"
   ]
  },
  {
   "cell_type": "code",
   "execution_count": null,
   "metadata": {},
   "outputs": [],
   "source": [
    "pre_gen.load_weights('checkpoint/pre_gan_weights/epoch_20_preG.pth')\n",
    "pre_disc.load_weights('checkpoint/pre_gan_weights/epoch_20_preD.pth')\n",
    "\n",
    "with tf.device('/cpu:0'):\n",
    "    gen_output = pre_gen(noise, training=True)\n",
    "temp = gen_output.numpy()\n",
    "plt.imshow(np.squeeze(temp))"
   ]
  },
  {
   "cell_type": "code",
   "execution_count": null,
   "metadata": {},
   "outputs": [],
   "source": [
    "pre_gen.load_weights('checkpoint/pre_gan_weights/epoch_40_preG.pth')\n",
    "pre_disc.load_weights('checkpoint/pre_gan_weights/epoch_40_preD.pth')\n",
    "\n",
    "with tf.device('/cpu:0'):\n",
    "    gen_output = pre_gen(noise, training=True)\n",
    "temp = gen_output.numpy()\n",
    "plt.imshow(np.squeeze(temp))"
   ]
  },
  {
   "cell_type": "code",
   "execution_count": null,
   "metadata": {},
   "outputs": [],
   "source": []
  }
 ],
 "metadata": {
  "kernelspec": {
   "display_name": "Python 3",
   "language": "python",
   "name": "python3"
  },
  "language_info": {
   "codemirror_mode": {
    "name": "ipython",
    "version": 3
   },
   "file_extension": ".py",
   "mimetype": "text/x-python",
   "name": "python",
   "nbconvert_exporter": "python",
   "pygments_lexer": "ipython3",
   "version": "3.7.5"
  }
 },
 "nbformat": 4,
 "nbformat_minor": 2
}
